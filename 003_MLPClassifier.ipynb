{
 "cells": [
  {
   "cell_type": "markdown",
   "metadata": {},
   "source": [
    "## MLP Classifier"
   ]
  },
  {
   "cell_type": "code",
   "execution_count": 30,
   "metadata": {},
   "outputs": [],
   "source": [
    "import pandas as pd\n",
    "import numpy as np\n",
    "import matplotlib.pyplot as plt\n",
    "%matplotlib inline\n",
    "\n",
    "import seaborn as sns\n",
    "sns.set(style=\"ticks\", color_codes=True)\n",
    "\n",
    "import warnings\n",
    "warnings.filterwarnings('ignore')"
   ]
  },
  {
   "cell_type": "code",
   "execution_count": 31,
   "metadata": {},
   "outputs": [
    {
     "name": "stdout",
     "output_type": "stream",
     "text": [
      "shape: (173, 16)\n"
     ]
    },
    {
     "data": {
      "text/html": [
       "<div>\n",
       "<style scoped>\n",
       "    .dataframe tbody tr th:only-of-type {\n",
       "        vertical-align: middle;\n",
       "    }\n",
       "\n",
       "    .dataframe tbody tr th {\n",
       "        vertical-align: top;\n",
       "    }\n",
       "\n",
       "    .dataframe thead th {\n",
       "        text-align: right;\n",
       "    }\n",
       "</style>\n",
       "<table border=\"1\" class=\"dataframe\">\n",
       "  <thead>\n",
       "    <tr style=\"text-align: right;\">\n",
       "      <th></th>\n",
       "      <th>id</th>\n",
       "      <th>title</th>\n",
       "      <th>artist</th>\n",
       "      <th>genre</th>\n",
       "      <th>year</th>\n",
       "      <th>bpm</th>\n",
       "      <th>nrgy</th>\n",
       "      <th>dnce</th>\n",
       "      <th>dB</th>\n",
       "      <th>live</th>\n",
       "      <th>val</th>\n",
       "      <th>dur</th>\n",
       "      <th>acous</th>\n",
       "      <th>spch</th>\n",
       "      <th>pop</th>\n",
       "      <th>supergenre</th>\n",
       "    </tr>\n",
       "  </thead>\n",
       "  <tbody>\n",
       "    <tr>\n",
       "      <th>0</th>\n",
       "      <td>1</td>\n",
       "      <td>Hey, Soul Sister</td>\n",
       "      <td>Train</td>\n",
       "      <td>neo mellow</td>\n",
       "      <td>2010</td>\n",
       "      <td>97</td>\n",
       "      <td>89</td>\n",
       "      <td>67</td>\n",
       "      <td>-4</td>\n",
       "      <td>8</td>\n",
       "      <td>80</td>\n",
       "      <td>217</td>\n",
       "      <td>19</td>\n",
       "      <td>4</td>\n",
       "      <td>83</td>\n",
       "      <td>mellow</td>\n",
       "    </tr>\n",
       "    <tr>\n",
       "      <th>1</th>\n",
       "      <td>2</td>\n",
       "      <td>Love The Way You Lie</td>\n",
       "      <td>Eminem</td>\n",
       "      <td>detroit hip hop</td>\n",
       "      <td>2010</td>\n",
       "      <td>87</td>\n",
       "      <td>93</td>\n",
       "      <td>75</td>\n",
       "      <td>-5</td>\n",
       "      <td>52</td>\n",
       "      <td>64</td>\n",
       "      <td>263</td>\n",
       "      <td>24</td>\n",
       "      <td>23</td>\n",
       "      <td>82</td>\n",
       "      <td>hip hop</td>\n",
       "    </tr>\n",
       "    <tr>\n",
       "      <th>2</th>\n",
       "      <td>10</td>\n",
       "      <td>Only Girl (In The World)</td>\n",
       "      <td>Rihanna</td>\n",
       "      <td>barbadian pop</td>\n",
       "      <td>2010</td>\n",
       "      <td>126</td>\n",
       "      <td>72</td>\n",
       "      <td>79</td>\n",
       "      <td>-4</td>\n",
       "      <td>7</td>\n",
       "      <td>61</td>\n",
       "      <td>235</td>\n",
       "      <td>13</td>\n",
       "      <td>4</td>\n",
       "      <td>73</td>\n",
       "      <td>barbadian pop</td>\n",
       "    </tr>\n",
       "  </tbody>\n",
       "</table>\n",
       "</div>"
      ],
      "text/plain": [
       "   id                     title   artist            genre  year  bpm  nrgy  \\\n",
       "0   1          Hey, Soul Sister    Train       neo mellow  2010   97    89   \n",
       "1   2      Love The Way You Lie   Eminem  detroit hip hop  2010   87    93   \n",
       "2  10  Only Girl (In The World)  Rihanna    barbadian pop  2010  126    72   \n",
       "\n",
       "   dnce  dB  live  val  dur  acous  spch  pop     supergenre  \n",
       "0    67  -4     8   80  217     19     4   83         mellow  \n",
       "1    75  -5    52   64  263     24    23   82        hip hop  \n",
       "2    79  -4     7   61  235     13     4   73  barbadian pop  "
      ]
     },
     "execution_count": 31,
     "metadata": {},
     "output_type": "execute_result"
    }
   ],
   "source": [
    "file = 'data/002_intermediate_data/preprocessed_data.csv'\n",
    "data = pd.read_csv(file, encoding='latin-1')\n",
    "print('shape:', data.shape)\n",
    "data.head(3)"
   ]
  },
  {
   "cell_type": "markdown",
   "metadata": {},
   "source": [
    "## General dataset analysis"
   ]
  },
  {
   "cell_type": "code",
   "execution_count": 32,
   "metadata": {},
   "outputs": [
    {
     "data": {
      "text/html": [
       "<div>\n",
       "<style scoped>\n",
       "    .dataframe tbody tr th:only-of-type {\n",
       "        vertical-align: middle;\n",
       "    }\n",
       "\n",
       "    .dataframe tbody tr th {\n",
       "        vertical-align: top;\n",
       "    }\n",
       "\n",
       "    .dataframe thead th {\n",
       "        text-align: right;\n",
       "    }\n",
       "</style>\n",
       "<table border=\"1\" class=\"dataframe\">\n",
       "  <thead>\n",
       "    <tr style=\"text-align: right;\">\n",
       "      <th></th>\n",
       "      <th>id</th>\n",
       "      <th>title</th>\n",
       "      <th>artist</th>\n",
       "      <th>genre</th>\n",
       "      <th>year</th>\n",
       "      <th>bpm</th>\n",
       "      <th>nrgy</th>\n",
       "      <th>dnce</th>\n",
       "      <th>dB</th>\n",
       "      <th>live</th>\n",
       "      <th>val</th>\n",
       "      <th>dur</th>\n",
       "      <th>acous</th>\n",
       "      <th>spch</th>\n",
       "      <th>pop</th>\n",
       "      <th>supergenre</th>\n",
       "    </tr>\n",
       "  </thead>\n",
       "  <tbody>\n",
       "    <tr>\n",
       "      <th>0</th>\n",
       "      <td>284</td>\n",
       "      <td>Waves - Robin Schulz Radio Edit</td>\n",
       "      <td>Mr. Probz</td>\n",
       "      <td>tropical house</td>\n",
       "      <td>2015</td>\n",
       "      <td>120</td>\n",
       "      <td>51</td>\n",
       "      <td>83</td>\n",
       "      <td>-9</td>\n",
       "      <td>8</td>\n",
       "      <td>45</td>\n",
       "      <td>208</td>\n",
       "      <td>1</td>\n",
       "      <td>4</td>\n",
       "      <td>77</td>\n",
       "      <td>house</td>\n",
       "    </tr>\n",
       "    <tr>\n",
       "      <th>1</th>\n",
       "      <td>261</td>\n",
       "      <td>Tee Shirt - Soundtrack Version</td>\n",
       "      <td>Birdy</td>\n",
       "      <td>neo mellow</td>\n",
       "      <td>2014</td>\n",
       "      <td>76</td>\n",
       "      <td>34</td>\n",
       "      <td>68</td>\n",
       "      <td>-9</td>\n",
       "      <td>9</td>\n",
       "      <td>56</td>\n",
       "      <td>160</td>\n",
       "      <td>84</td>\n",
       "      <td>3</td>\n",
       "      <td>49</td>\n",
       "      <td>mellow</td>\n",
       "    </tr>\n",
       "    <tr>\n",
       "      <th>2</th>\n",
       "      <td>349</td>\n",
       "      <td>Don't Be so Hard on Yourself</td>\n",
       "      <td>Jess Glynne</td>\n",
       "      <td>dance pop</td>\n",
       "      <td>2015</td>\n",
       "      <td>120</td>\n",
       "      <td>82</td>\n",
       "      <td>57</td>\n",
       "      <td>-3</td>\n",
       "      <td>16</td>\n",
       "      <td>66</td>\n",
       "      <td>211</td>\n",
       "      <td>6</td>\n",
       "      <td>3</td>\n",
       "      <td>52</td>\n",
       "      <td>dance pop</td>\n",
       "    </tr>\n",
       "    <tr>\n",
       "      <th>3</th>\n",
       "      <td>142</td>\n",
       "      <td>Story of My Life</td>\n",
       "      <td>One Direction</td>\n",
       "      <td>boy band</td>\n",
       "      <td>2013</td>\n",
       "      <td>121</td>\n",
       "      <td>66</td>\n",
       "      <td>60</td>\n",
       "      <td>-6</td>\n",
       "      <td>12</td>\n",
       "      <td>29</td>\n",
       "      <td>245</td>\n",
       "      <td>23</td>\n",
       "      <td>5</td>\n",
       "      <td>81</td>\n",
       "      <td>band</td>\n",
       "    </tr>\n",
       "    <tr>\n",
       "      <th>4</th>\n",
       "      <td>399</td>\n",
       "      <td>All I Ask</td>\n",
       "      <td>Adele</td>\n",
       "      <td>british soul</td>\n",
       "      <td>2016</td>\n",
       "      <td>142</td>\n",
       "      <td>28</td>\n",
       "      <td>59</td>\n",
       "      <td>-5</td>\n",
       "      <td>15</td>\n",
       "      <td>34</td>\n",
       "      <td>272</td>\n",
       "      <td>88</td>\n",
       "      <td>3</td>\n",
       "      <td>71</td>\n",
       "      <td>soul</td>\n",
       "    </tr>\n",
       "  </tbody>\n",
       "</table>\n",
       "</div>"
      ],
      "text/plain": [
       "    id                            title         artist           genre  year  \\\n",
       "0  284  Waves - Robin Schulz Radio Edit      Mr. Probz  tropical house  2015   \n",
       "1  261   Tee Shirt - Soundtrack Version          Birdy      neo mellow  2014   \n",
       "2  349     Don't Be so Hard on Yourself    Jess Glynne       dance pop  2015   \n",
       "3  142                 Story of My Life  One Direction        boy band  2013   \n",
       "4  399                        All I Ask          Adele    british soul  2016   \n",
       "\n",
       "   bpm  nrgy  dnce  dB  live  val  dur  acous  spch  pop supergenre  \n",
       "0  120    51    83  -9     8   45  208      1     4   77      house  \n",
       "1   76    34    68  -9     9   56  160     84     3   49     mellow  \n",
       "2  120    82    57  -3    16   66  211      6     3   52  dance pop  \n",
       "3  121    66    60  -6    12   29  245     23     5   81       band  \n",
       "4  142    28    59  -5    15   34  272     88     3   71       soul  "
      ]
     },
     "execution_count": 32,
     "metadata": {},
     "output_type": "execute_result"
    }
   ],
   "source": [
    "# Randomize data\n",
    "data = data.sample(frac=1).reset_index(drop=True)\n",
    "data.head()"
   ]
  },
  {
   "cell_type": "code",
   "execution_count": 33,
   "metadata": {},
   "outputs": [
    {
     "data": {
      "text/html": [
       "<div>\n",
       "<style scoped>\n",
       "    .dataframe tbody tr th:only-of-type {\n",
       "        vertical-align: middle;\n",
       "    }\n",
       "\n",
       "    .dataframe tbody tr th {\n",
       "        vertical-align: top;\n",
       "    }\n",
       "\n",
       "    .dataframe thead th {\n",
       "        text-align: right;\n",
       "    }\n",
       "</style>\n",
       "<table border=\"1\" class=\"dataframe\">\n",
       "  <thead>\n",
       "    <tr style=\"text-align: right;\">\n",
       "      <th></th>\n",
       "      <th>id</th>\n",
       "      <th>year</th>\n",
       "      <th>bpm</th>\n",
       "      <th>nrgy</th>\n",
       "      <th>dnce</th>\n",
       "      <th>dB</th>\n",
       "      <th>live</th>\n",
       "      <th>val</th>\n",
       "      <th>dur</th>\n",
       "      <th>acous</th>\n",
       "      <th>spch</th>\n",
       "      <th>pop</th>\n",
       "    </tr>\n",
       "  </thead>\n",
       "  <tbody>\n",
       "    <tr>\n",
       "      <th>count</th>\n",
       "      <td>173.000000</td>\n",
       "      <td>173.000000</td>\n",
       "      <td>173.000000</td>\n",
       "      <td>173.000000</td>\n",
       "      <td>173.000000</td>\n",
       "      <td>173.000000</td>\n",
       "      <td>173.000000</td>\n",
       "      <td>173.000000</td>\n",
       "      <td>173.000000</td>\n",
       "      <td>173.000000</td>\n",
       "      <td>173.000000</td>\n",
       "      <td>173.000000</td>\n",
       "    </tr>\n",
       "    <tr>\n",
       "      <th>mean</th>\n",
       "      <td>328.566474</td>\n",
       "      <td>2015.023121</td>\n",
       "      <td>118.722543</td>\n",
       "      <td>68.595376</td>\n",
       "      <td>61.716763</td>\n",
       "      <td>-5.924855</td>\n",
       "      <td>16.040462</td>\n",
       "      <td>48.254335</td>\n",
       "      <td>221.791908</td>\n",
       "      <td>17.716763</td>\n",
       "      <td>8.312139</td>\n",
       "      <td>67.641618</td>\n",
       "    </tr>\n",
       "    <tr>\n",
       "      <th>std</th>\n",
       "      <td>165.035241</td>\n",
       "      <td>2.456491</td>\n",
       "      <td>28.721263</td>\n",
       "      <td>19.312256</td>\n",
       "      <td>14.111500</td>\n",
       "      <td>4.591463</td>\n",
       "      <td>12.727629</td>\n",
       "      <td>20.883231</td>\n",
       "      <td>34.057792</td>\n",
       "      <td>24.796043</td>\n",
       "      <td>7.544112</td>\n",
       "      <td>15.325875</td>\n",
       "    </tr>\n",
       "    <tr>\n",
       "      <th>min</th>\n",
       "      <td>1.000000</td>\n",
       "      <td>2010.000000</td>\n",
       "      <td>0.000000</td>\n",
       "      <td>0.000000</td>\n",
       "      <td>0.000000</td>\n",
       "      <td>-60.000000</td>\n",
       "      <td>0.000000</td>\n",
       "      <td>0.000000</td>\n",
       "      <td>134.000000</td>\n",
       "      <td>0.000000</td>\n",
       "      <td>0.000000</td>\n",
       "      <td>0.000000</td>\n",
       "    </tr>\n",
       "    <tr>\n",
       "      <th>25%</th>\n",
       "      <td>211.000000</td>\n",
       "      <td>2014.000000</td>\n",
       "      <td>100.000000</td>\n",
       "      <td>59.000000</td>\n",
       "      <td>55.000000</td>\n",
       "      <td>-7.000000</td>\n",
       "      <td>8.000000</td>\n",
       "      <td>34.000000</td>\n",
       "      <td>199.000000</td>\n",
       "      <td>2.000000</td>\n",
       "      <td>4.000000</td>\n",
       "      <td>61.000000</td>\n",
       "    </tr>\n",
       "    <tr>\n",
       "      <th>50%</th>\n",
       "      <td>341.000000</td>\n",
       "      <td>2015.000000</td>\n",
       "      <td>120.000000</td>\n",
       "      <td>74.000000</td>\n",
       "      <td>62.000000</td>\n",
       "      <td>-5.000000</td>\n",
       "      <td>11.000000</td>\n",
       "      <td>47.000000</td>\n",
       "      <td>220.000000</td>\n",
       "      <td>7.000000</td>\n",
       "      <td>6.000000</td>\n",
       "      <td>71.000000</td>\n",
       "    </tr>\n",
       "    <tr>\n",
       "      <th>75%</th>\n",
       "      <td>454.000000</td>\n",
       "      <td>2017.000000</td>\n",
       "      <td>130.000000</td>\n",
       "      <td>82.000000</td>\n",
       "      <td>71.000000</td>\n",
       "      <td>-4.000000</td>\n",
       "      <td>17.000000</td>\n",
       "      <td>62.000000</td>\n",
       "      <td>240.000000</td>\n",
       "      <td>20.000000</td>\n",
       "      <td>9.000000</td>\n",
       "      <td>78.000000</td>\n",
       "    </tr>\n",
       "    <tr>\n",
       "      <th>max</th>\n",
       "      <td>603.000000</td>\n",
       "      <td>2019.000000</td>\n",
       "      <td>206.000000</td>\n",
       "      <td>98.000000</td>\n",
       "      <td>97.000000</td>\n",
       "      <td>-2.000000</td>\n",
       "      <td>74.000000</td>\n",
       "      <td>97.000000</td>\n",
       "      <td>329.000000</td>\n",
       "      <td>99.000000</td>\n",
       "      <td>44.000000</td>\n",
       "      <td>92.000000</td>\n",
       "    </tr>\n",
       "  </tbody>\n",
       "</table>\n",
       "</div>"
      ],
      "text/plain": [
       "               id         year         bpm        nrgy        dnce  \\\n",
       "count  173.000000   173.000000  173.000000  173.000000  173.000000   \n",
       "mean   328.566474  2015.023121  118.722543   68.595376   61.716763   \n",
       "std    165.035241     2.456491   28.721263   19.312256   14.111500   \n",
       "min      1.000000  2010.000000    0.000000    0.000000    0.000000   \n",
       "25%    211.000000  2014.000000  100.000000   59.000000   55.000000   \n",
       "50%    341.000000  2015.000000  120.000000   74.000000   62.000000   \n",
       "75%    454.000000  2017.000000  130.000000   82.000000   71.000000   \n",
       "max    603.000000  2019.000000  206.000000   98.000000   97.000000   \n",
       "\n",
       "               dB        live         val         dur       acous        spch  \\\n",
       "count  173.000000  173.000000  173.000000  173.000000  173.000000  173.000000   \n",
       "mean    -5.924855   16.040462   48.254335  221.791908   17.716763    8.312139   \n",
       "std      4.591463   12.727629   20.883231   34.057792   24.796043    7.544112   \n",
       "min    -60.000000    0.000000    0.000000  134.000000    0.000000    0.000000   \n",
       "25%     -7.000000    8.000000   34.000000  199.000000    2.000000    4.000000   \n",
       "50%     -5.000000   11.000000   47.000000  220.000000    7.000000    6.000000   \n",
       "75%     -4.000000   17.000000   62.000000  240.000000   20.000000    9.000000   \n",
       "max     -2.000000   74.000000   97.000000  329.000000   99.000000   44.000000   \n",
       "\n",
       "              pop  \n",
       "count  173.000000  \n",
       "mean    67.641618  \n",
       "std     15.325875  \n",
       "min      0.000000  \n",
       "25%     61.000000  \n",
       "50%     71.000000  \n",
       "75%     78.000000  \n",
       "max     92.000000  "
      ]
     },
     "execution_count": 33,
     "metadata": {},
     "output_type": "execute_result"
    }
   ],
   "source": [
    "# General statistics\n",
    "data.describe()\n",
    "# asks for scaler! means and ranges are different"
   ]
  },
  {
   "cell_type": "code",
   "execution_count": 34,
   "metadata": {},
   "outputs": [
    {
     "data": {
      "text/plain": [
       "id            0\n",
       "title         0\n",
       "artist        0\n",
       "genre         0\n",
       "year          0\n",
       "bpm           0\n",
       "nrgy          0\n",
       "dnce          0\n",
       "dB            0\n",
       "live          0\n",
       "val           0\n",
       "dur           0\n",
       "acous         0\n",
       "spch          0\n",
       "pop           0\n",
       "supergenre    0\n",
       "dtype: int64"
      ]
     },
     "execution_count": 34,
     "metadata": {},
     "output_type": "execute_result"
    }
   ],
   "source": [
    "# Verificando valores nulos\n",
    "data.isna().sum()"
   ]
  },
  {
   "cell_type": "markdown",
   "metadata": {},
   "source": [
    "### Deleting not important data"
   ]
  },
  {
   "cell_type": "code",
   "execution_count": 35,
   "metadata": {},
   "outputs": [
    {
     "data": {
      "text/plain": [
       "Index(['id', 'title', 'artist', 'genre', 'year', 'bpm', 'nrgy', 'dnce', 'dB',\n",
       "       'live', 'val', 'dur', 'acous', 'spch', 'pop', 'supergenre'],\n",
       "      dtype='object')"
      ]
     },
     "execution_count": 35,
     "metadata": {},
     "output_type": "execute_result"
    }
   ],
   "source": [
    "data.columns"
   ]
  },
  {
   "cell_type": "code",
   "execution_count": 36,
   "metadata": {},
   "outputs": [
    {
     "data": {
      "text/html": [
       "<div>\n",
       "<style scoped>\n",
       "    .dataframe tbody tr th:only-of-type {\n",
       "        vertical-align: middle;\n",
       "    }\n",
       "\n",
       "    .dataframe tbody tr th {\n",
       "        vertical-align: top;\n",
       "    }\n",
       "\n",
       "    .dataframe thead th {\n",
       "        text-align: right;\n",
       "    }\n",
       "</style>\n",
       "<table border=\"1\" class=\"dataframe\">\n",
       "  <thead>\n",
       "    <tr style=\"text-align: right;\">\n",
       "      <th></th>\n",
       "      <th>year</th>\n",
       "      <th>bpm</th>\n",
       "      <th>nrgy</th>\n",
       "      <th>dnce</th>\n",
       "      <th>dB</th>\n",
       "      <th>live</th>\n",
       "      <th>val</th>\n",
       "      <th>dur</th>\n",
       "      <th>acous</th>\n",
       "      <th>spch</th>\n",
       "      <th>pop</th>\n",
       "      <th>supergenre</th>\n",
       "    </tr>\n",
       "  </thead>\n",
       "  <tbody>\n",
       "    <tr>\n",
       "      <th>0</th>\n",
       "      <td>2015</td>\n",
       "      <td>120</td>\n",
       "      <td>51</td>\n",
       "      <td>83</td>\n",
       "      <td>-9</td>\n",
       "      <td>8</td>\n",
       "      <td>45</td>\n",
       "      <td>208</td>\n",
       "      <td>1</td>\n",
       "      <td>4</td>\n",
       "      <td>77</td>\n",
       "      <td>house</td>\n",
       "    </tr>\n",
       "    <tr>\n",
       "      <th>1</th>\n",
       "      <td>2014</td>\n",
       "      <td>76</td>\n",
       "      <td>34</td>\n",
       "      <td>68</td>\n",
       "      <td>-9</td>\n",
       "      <td>9</td>\n",
       "      <td>56</td>\n",
       "      <td>160</td>\n",
       "      <td>84</td>\n",
       "      <td>3</td>\n",
       "      <td>49</td>\n",
       "      <td>mellow</td>\n",
       "    </tr>\n",
       "    <tr>\n",
       "      <th>2</th>\n",
       "      <td>2015</td>\n",
       "      <td>120</td>\n",
       "      <td>82</td>\n",
       "      <td>57</td>\n",
       "      <td>-3</td>\n",
       "      <td>16</td>\n",
       "      <td>66</td>\n",
       "      <td>211</td>\n",
       "      <td>6</td>\n",
       "      <td>3</td>\n",
       "      <td>52</td>\n",
       "      <td>dance pop</td>\n",
       "    </tr>\n",
       "    <tr>\n",
       "      <th>3</th>\n",
       "      <td>2013</td>\n",
       "      <td>121</td>\n",
       "      <td>66</td>\n",
       "      <td>60</td>\n",
       "      <td>-6</td>\n",
       "      <td>12</td>\n",
       "      <td>29</td>\n",
       "      <td>245</td>\n",
       "      <td>23</td>\n",
       "      <td>5</td>\n",
       "      <td>81</td>\n",
       "      <td>band</td>\n",
       "    </tr>\n",
       "    <tr>\n",
       "      <th>4</th>\n",
       "      <td>2016</td>\n",
       "      <td>142</td>\n",
       "      <td>28</td>\n",
       "      <td>59</td>\n",
       "      <td>-5</td>\n",
       "      <td>15</td>\n",
       "      <td>34</td>\n",
       "      <td>272</td>\n",
       "      <td>88</td>\n",
       "      <td>3</td>\n",
       "      <td>71</td>\n",
       "      <td>soul</td>\n",
       "    </tr>\n",
       "  </tbody>\n",
       "</table>\n",
       "</div>"
      ],
      "text/plain": [
       "   year  bpm  nrgy  dnce  dB  live  val  dur  acous  spch  pop supergenre\n",
       "0  2015  120    51    83  -9     8   45  208      1     4   77      house\n",
       "1  2014   76    34    68  -9     9   56  160     84     3   49     mellow\n",
       "2  2015  120    82    57  -3    16   66  211      6     3   52  dance pop\n",
       "3  2013  121    66    60  -6    12   29  245     23     5   81       band\n",
       "4  2016  142    28    59  -5    15   34  272     88     3   71       soul"
      ]
     },
     "execution_count": 36,
     "metadata": {},
     "output_type": "execute_result"
    }
   ],
   "source": [
    "df = data.drop(['id', 'title', 'artist', 'genre'], axis=1)\n",
    "df.head()"
   ]
  },
  {
   "cell_type": "markdown",
   "metadata": {},
   "source": [
    "### LabelEncoder para variável `supergenre`"
   ]
  },
  {
   "cell_type": "code",
   "execution_count": 37,
   "metadata": {},
   "outputs": [],
   "source": [
    "from sklearn.preprocessing import LabelEncoder"
   ]
  },
  {
   "cell_type": "code",
   "execution_count": 38,
   "metadata": {},
   "outputs": [
    {
     "data": {
      "text/html": [
       "<div>\n",
       "<style scoped>\n",
       "    .dataframe tbody tr th:only-of-type {\n",
       "        vertical-align: middle;\n",
       "    }\n",
       "\n",
       "    .dataframe tbody tr th {\n",
       "        vertical-align: top;\n",
       "    }\n",
       "\n",
       "    .dataframe thead th {\n",
       "        text-align: right;\n",
       "    }\n",
       "</style>\n",
       "<table border=\"1\" class=\"dataframe\">\n",
       "  <thead>\n",
       "    <tr style=\"text-align: right;\">\n",
       "      <th></th>\n",
       "      <th>year</th>\n",
       "      <th>bpm</th>\n",
       "      <th>nrgy</th>\n",
       "      <th>dnce</th>\n",
       "      <th>dB</th>\n",
       "      <th>live</th>\n",
       "      <th>val</th>\n",
       "      <th>dur</th>\n",
       "      <th>acous</th>\n",
       "      <th>spch</th>\n",
       "      <th>pop</th>\n",
       "      <th>supergenre</th>\n",
       "    </tr>\n",
       "  </thead>\n",
       "  <tbody>\n",
       "    <tr>\n",
       "      <th>0</th>\n",
       "      <td>2015</td>\n",
       "      <td>120</td>\n",
       "      <td>51</td>\n",
       "      <td>83</td>\n",
       "      <td>-9</td>\n",
       "      <td>8</td>\n",
       "      <td>45</td>\n",
       "      <td>208</td>\n",
       "      <td>1</td>\n",
       "      <td>4</td>\n",
       "      <td>77</td>\n",
       "      <td>9</td>\n",
       "    </tr>\n",
       "    <tr>\n",
       "      <th>1</th>\n",
       "      <td>2014</td>\n",
       "      <td>76</td>\n",
       "      <td>34</td>\n",
       "      <td>68</td>\n",
       "      <td>-9</td>\n",
       "      <td>9</td>\n",
       "      <td>56</td>\n",
       "      <td>160</td>\n",
       "      <td>84</td>\n",
       "      <td>3</td>\n",
       "      <td>49</td>\n",
       "      <td>11</td>\n",
       "    </tr>\n",
       "    <tr>\n",
       "      <th>2</th>\n",
       "      <td>2015</td>\n",
       "      <td>120</td>\n",
       "      <td>82</td>\n",
       "      <td>57</td>\n",
       "      <td>-3</td>\n",
       "      <td>16</td>\n",
       "      <td>66</td>\n",
       "      <td>211</td>\n",
       "      <td>6</td>\n",
       "      <td>3</td>\n",
       "      <td>52</td>\n",
       "      <td>5</td>\n",
       "    </tr>\n",
       "    <tr>\n",
       "      <th>3</th>\n",
       "      <td>2013</td>\n",
       "      <td>121</td>\n",
       "      <td>66</td>\n",
       "      <td>60</td>\n",
       "      <td>-6</td>\n",
       "      <td>12</td>\n",
       "      <td>29</td>\n",
       "      <td>245</td>\n",
       "      <td>23</td>\n",
       "      <td>5</td>\n",
       "      <td>81</td>\n",
       "      <td>0</td>\n",
       "    </tr>\n",
       "    <tr>\n",
       "      <th>4</th>\n",
       "      <td>2016</td>\n",
       "      <td>142</td>\n",
       "      <td>28</td>\n",
       "      <td>59</td>\n",
       "      <td>-5</td>\n",
       "      <td>15</td>\n",
       "      <td>34</td>\n",
       "      <td>272</td>\n",
       "      <td>88</td>\n",
       "      <td>3</td>\n",
       "      <td>71</td>\n",
       "      <td>15</td>\n",
       "    </tr>\n",
       "  </tbody>\n",
       "</table>\n",
       "</div>"
      ],
      "text/plain": [
       "   year  bpm  nrgy  dnce  dB  live  val  dur  acous  spch  pop  supergenre\n",
       "0  2015  120    51    83  -9     8   45  208      1     4   77           9\n",
       "1  2014   76    34    68  -9     9   56  160     84     3   49          11\n",
       "2  2015  120    82    57  -3    16   66  211      6     3   52           5\n",
       "3  2013  121    66    60  -6    12   29  245     23     5   81           0\n",
       "4  2016  142    28    59  -5    15   34  272     88     3   71          15"
      ]
     },
     "execution_count": 38,
     "metadata": {},
     "output_type": "execute_result"
    }
   ],
   "source": [
    "le = LabelEncoder()\n",
    "le.fit(df.supergenre)\n",
    "df.supergenre = le.transform(df.supergenre)\n",
    "\n",
    "#df.supergenre = le.fit_transform(df.supergenre)\n",
    "df.head()"
   ]
  },
  {
   "cell_type": "markdown",
   "metadata": {},
   "source": [
    "## Análise de correlação"
   ]
  },
  {
   "cell_type": "code",
   "execution_count": 39,
   "metadata": {},
   "outputs": [
    {
     "data": {
      "text/html": [
       "<div>\n",
       "<style scoped>\n",
       "    .dataframe tbody tr th:only-of-type {\n",
       "        vertical-align: middle;\n",
       "    }\n",
       "\n",
       "    .dataframe tbody tr th {\n",
       "        vertical-align: top;\n",
       "    }\n",
       "\n",
       "    .dataframe thead th {\n",
       "        text-align: right;\n",
       "    }\n",
       "</style>\n",
       "<table border=\"1\" class=\"dataframe\">\n",
       "  <thead>\n",
       "    <tr style=\"text-align: right;\">\n",
       "      <th></th>\n",
       "      <th>year</th>\n",
       "      <th>bpm</th>\n",
       "      <th>nrgy</th>\n",
       "      <th>dnce</th>\n",
       "      <th>dB</th>\n",
       "      <th>live</th>\n",
       "      <th>val</th>\n",
       "      <th>dur</th>\n",
       "      <th>acous</th>\n",
       "      <th>spch</th>\n",
       "      <th>pop</th>\n",
       "      <th>supergenre</th>\n",
       "    </tr>\n",
       "  </thead>\n",
       "  <tbody>\n",
       "    <tr>\n",
       "      <th>year</th>\n",
       "      <td>1.000000</td>\n",
       "      <td>-0.065420</td>\n",
       "      <td>-0.253118</td>\n",
       "      <td>0.092939</td>\n",
       "      <td>-0.156859</td>\n",
       "      <td>-0.060094</td>\n",
       "      <td>-0.096676</td>\n",
       "      <td>-0.225168</td>\n",
       "      <td>0.036856</td>\n",
       "      <td>-0.012313</td>\n",
       "      <td>0.234028</td>\n",
       "      <td>0.069830</td>\n",
       "    </tr>\n",
       "    <tr>\n",
       "      <th>bpm</th>\n",
       "      <td>-0.065420</td>\n",
       "      <td>1.000000</td>\n",
       "      <td>0.054281</td>\n",
       "      <td>-0.021856</td>\n",
       "      <td>0.322660</td>\n",
       "      <td>0.010941</td>\n",
       "      <td>-0.000938</td>\n",
       "      <td>-0.099663</td>\n",
       "      <td>0.008747</td>\n",
       "      <td>0.105397</td>\n",
       "      <td>0.126941</td>\n",
       "      <td>0.022780</td>\n",
       "    </tr>\n",
       "    <tr>\n",
       "      <th>nrgy</th>\n",
       "      <td>-0.253118</td>\n",
       "      <td>0.054281</td>\n",
       "      <td>1.000000</td>\n",
       "      <td>0.198428</td>\n",
       "      <td>0.546717</td>\n",
       "      <td>0.198849</td>\n",
       "      <td>0.429648</td>\n",
       "      <td>-0.119947</td>\n",
       "      <td>-0.621037</td>\n",
       "      <td>0.125855</td>\n",
       "      <td>-0.034004</td>\n",
       "      <td>-0.200177</td>\n",
       "    </tr>\n",
       "    <tr>\n",
       "      <th>dnce</th>\n",
       "      <td>0.092939</td>\n",
       "      <td>-0.021856</td>\n",
       "      <td>0.198428</td>\n",
       "      <td>1.000000</td>\n",
       "      <td>0.307842</td>\n",
       "      <td>-0.108766</td>\n",
       "      <td>0.446590</td>\n",
       "      <td>-0.177382</td>\n",
       "      <td>-0.189931</td>\n",
       "      <td>-0.026853</td>\n",
       "      <td>0.181309</td>\n",
       "      <td>-0.041603</td>\n",
       "    </tr>\n",
       "    <tr>\n",
       "      <th>dB</th>\n",
       "      <td>-0.156859</td>\n",
       "      <td>0.322660</td>\n",
       "      <td>0.546717</td>\n",
       "      <td>0.307842</td>\n",
       "      <td>1.000000</td>\n",
       "      <td>0.111673</td>\n",
       "      <td>0.309583</td>\n",
       "      <td>-0.068161</td>\n",
       "      <td>-0.103426</td>\n",
       "      <td>0.046316</td>\n",
       "      <td>0.280721</td>\n",
       "      <td>-0.191019</td>\n",
       "    </tr>\n",
       "    <tr>\n",
       "      <th>live</th>\n",
       "      <td>-0.060094</td>\n",
       "      <td>0.010941</td>\n",
       "      <td>0.198849</td>\n",
       "      <td>-0.108766</td>\n",
       "      <td>0.111673</td>\n",
       "      <td>1.000000</td>\n",
       "      <td>-0.012245</td>\n",
       "      <td>0.149367</td>\n",
       "      <td>-0.049925</td>\n",
       "      <td>0.136832</td>\n",
       "      <td>0.020194</td>\n",
       "      <td>0.032766</td>\n",
       "    </tr>\n",
       "    <tr>\n",
       "      <th>val</th>\n",
       "      <td>-0.096676</td>\n",
       "      <td>-0.000938</td>\n",
       "      <td>0.429648</td>\n",
       "      <td>0.446590</td>\n",
       "      <td>0.309583</td>\n",
       "      <td>-0.012245</td>\n",
       "      <td>1.000000</td>\n",
       "      <td>-0.199545</td>\n",
       "      <td>-0.149492</td>\n",
       "      <td>0.168990</td>\n",
       "      <td>0.028770</td>\n",
       "      <td>-0.238749</td>\n",
       "    </tr>\n",
       "    <tr>\n",
       "      <th>dur</th>\n",
       "      <td>-0.225168</td>\n",
       "      <td>-0.099663</td>\n",
       "      <td>-0.119947</td>\n",
       "      <td>-0.177382</td>\n",
       "      <td>-0.068161</td>\n",
       "      <td>0.149367</td>\n",
       "      <td>-0.199545</td>\n",
       "      <td>1.000000</td>\n",
       "      <td>0.124064</td>\n",
       "      <td>0.136656</td>\n",
       "      <td>-0.090756</td>\n",
       "      <td>0.121234</td>\n",
       "    </tr>\n",
       "    <tr>\n",
       "      <th>acous</th>\n",
       "      <td>0.036856</td>\n",
       "      <td>0.008747</td>\n",
       "      <td>-0.621037</td>\n",
       "      <td>-0.189931</td>\n",
       "      <td>-0.103426</td>\n",
       "      <td>-0.049925</td>\n",
       "      <td>-0.149492</td>\n",
       "      <td>0.124064</td>\n",
       "      <td>1.000000</td>\n",
       "      <td>-0.060690</td>\n",
       "      <td>0.059780</td>\n",
       "      <td>0.127451</td>\n",
       "    </tr>\n",
       "    <tr>\n",
       "      <th>spch</th>\n",
       "      <td>-0.012313</td>\n",
       "      <td>0.105397</td>\n",
       "      <td>0.125855</td>\n",
       "      <td>-0.026853</td>\n",
       "      <td>0.046316</td>\n",
       "      <td>0.136832</td>\n",
       "      <td>0.168990</td>\n",
       "      <td>0.136656</td>\n",
       "      <td>-0.060690</td>\n",
       "      <td>1.000000</td>\n",
       "      <td>0.031898</td>\n",
       "      <td>-0.029684</td>\n",
       "    </tr>\n",
       "    <tr>\n",
       "      <th>pop</th>\n",
       "      <td>0.234028</td>\n",
       "      <td>0.126941</td>\n",
       "      <td>-0.034004</td>\n",
       "      <td>0.181309</td>\n",
       "      <td>0.280721</td>\n",
       "      <td>0.020194</td>\n",
       "      <td>0.028770</td>\n",
       "      <td>-0.090756</td>\n",
       "      <td>0.059780</td>\n",
       "      <td>0.031898</td>\n",
       "      <td>1.000000</td>\n",
       "      <td>-0.015456</td>\n",
       "    </tr>\n",
       "    <tr>\n",
       "      <th>supergenre</th>\n",
       "      <td>0.069830</td>\n",
       "      <td>0.022780</td>\n",
       "      <td>-0.200177</td>\n",
       "      <td>-0.041603</td>\n",
       "      <td>-0.191019</td>\n",
       "      <td>0.032766</td>\n",
       "      <td>-0.238749</td>\n",
       "      <td>0.121234</td>\n",
       "      <td>0.127451</td>\n",
       "      <td>-0.029684</td>\n",
       "      <td>-0.015456</td>\n",
       "      <td>1.000000</td>\n",
       "    </tr>\n",
       "  </tbody>\n",
       "</table>\n",
       "</div>"
      ],
      "text/plain": [
       "                year       bpm      nrgy      dnce        dB      live  \\\n",
       "year        1.000000 -0.065420 -0.253118  0.092939 -0.156859 -0.060094   \n",
       "bpm        -0.065420  1.000000  0.054281 -0.021856  0.322660  0.010941   \n",
       "nrgy       -0.253118  0.054281  1.000000  0.198428  0.546717  0.198849   \n",
       "dnce        0.092939 -0.021856  0.198428  1.000000  0.307842 -0.108766   \n",
       "dB         -0.156859  0.322660  0.546717  0.307842  1.000000  0.111673   \n",
       "live       -0.060094  0.010941  0.198849 -0.108766  0.111673  1.000000   \n",
       "val        -0.096676 -0.000938  0.429648  0.446590  0.309583 -0.012245   \n",
       "dur        -0.225168 -0.099663 -0.119947 -0.177382 -0.068161  0.149367   \n",
       "acous       0.036856  0.008747 -0.621037 -0.189931 -0.103426 -0.049925   \n",
       "spch       -0.012313  0.105397  0.125855 -0.026853  0.046316  0.136832   \n",
       "pop         0.234028  0.126941 -0.034004  0.181309  0.280721  0.020194   \n",
       "supergenre  0.069830  0.022780 -0.200177 -0.041603 -0.191019  0.032766   \n",
       "\n",
       "                 val       dur     acous      spch       pop  supergenre  \n",
       "year       -0.096676 -0.225168  0.036856 -0.012313  0.234028    0.069830  \n",
       "bpm        -0.000938 -0.099663  0.008747  0.105397  0.126941    0.022780  \n",
       "nrgy        0.429648 -0.119947 -0.621037  0.125855 -0.034004   -0.200177  \n",
       "dnce        0.446590 -0.177382 -0.189931 -0.026853  0.181309   -0.041603  \n",
       "dB          0.309583 -0.068161 -0.103426  0.046316  0.280721   -0.191019  \n",
       "live       -0.012245  0.149367 -0.049925  0.136832  0.020194    0.032766  \n",
       "val         1.000000 -0.199545 -0.149492  0.168990  0.028770   -0.238749  \n",
       "dur        -0.199545  1.000000  0.124064  0.136656 -0.090756    0.121234  \n",
       "acous      -0.149492  0.124064  1.000000 -0.060690  0.059780    0.127451  \n",
       "spch        0.168990  0.136656 -0.060690  1.000000  0.031898   -0.029684  \n",
       "pop         0.028770 -0.090756  0.059780  0.031898  1.000000   -0.015456  \n",
       "supergenre -0.238749  0.121234  0.127451 -0.029684 -0.015456    1.000000  "
      ]
     },
     "execution_count": 39,
     "metadata": {},
     "output_type": "execute_result"
    }
   ],
   "source": [
    "df_corr = df.corr()\n",
    "df_corr"
   ]
  },
  {
   "cell_type": "code",
   "execution_count": 40,
   "metadata": {},
   "outputs": [
    {
     "data": {
      "text/plain": [
       "<AxesSubplot:>"
      ]
     },
     "execution_count": 40,
     "metadata": {},
     "output_type": "execute_result"
    },
    {
     "data": {
      "image/png": "[encoded data removed]",
      "text/plain": [
       "<Figure size 720x576 with 2 Axes>"
      ]
     },
     "metadata": {},
     "output_type": "display_data"
    }
   ],
   "source": [
    "fig, ax = plt.subplots(figsize=(10, 8))\n",
    "sns.heatmap(df_corr, annot=True)"
   ]
  },
  {
   "cell_type": "markdown",
   "metadata": {},
   "source": [
    "**Análise da correlação:**\n",
    "\n",
    "* Aparentemente, algumas variáveis tem correlação muito baixa com a variável `target` (supergenre).\n",
    "* Pode ser que elas não influenciem tanto na determinação da variável.\n",
    "* Porém, vale testar as duas alternativas:\n",
    "  * com todas as variáveis\n",
    "  * sem as variáveis de menor correlação (menor que 0.01 ou que 0.05)"
   ]
  },
  {
   "cell_type": "markdown",
   "metadata": {},
   "source": [
    "## Train-test split"
   ]
  },
  {
   "cell_type": "code",
   "execution_count": 41,
   "metadata": {},
   "outputs": [],
   "source": [
    "from sklearn.model_selection import train_test_split"
   ]
  },
  {
   "cell_type": "code",
   "execution_count": 42,
   "metadata": {},
   "outputs": [],
   "source": [
    "X = df.drop('supergenre', axis=1)\n",
    "y = df.supergenre\n",
    "\n",
    "X_train, X_test, y_train, y_test = train_test_split(X, y, test_size=0.3)"
   ]
  },
  {
   "cell_type": "code",
   "execution_count": 43,
   "metadata": {},
   "outputs": [
    {
     "data": {
      "text/plain": [
       "'(121, 11), (52, 11), (121,), (52,)'"
      ]
     },
     "execution_count": 43,
     "metadata": {},
     "output_type": "execute_result"
    }
   ],
   "source": [
    "f'{X_train.shape}, {X_test.shape}, {y_train.shape}, {y_test.shape}'"
   ]
  },
  {
   "cell_type": "code",
   "execution_count": 44,
   "metadata": {},
   "outputs": [
    {
     "data": {
      "text/html": [
       "<div>\n",
       "<style scoped>\n",
       "    .dataframe tbody tr th:only-of-type {\n",
       "        vertical-align: middle;\n",
       "    }\n",
       "\n",
       "    .dataframe tbody tr th {\n",
       "        vertical-align: top;\n",
       "    }\n",
       "\n",
       "    .dataframe thead th {\n",
       "        text-align: right;\n",
       "    }\n",
       "</style>\n",
       "<table border=\"1\" class=\"dataframe\">\n",
       "  <thead>\n",
       "    <tr style=\"text-align: right;\">\n",
       "      <th></th>\n",
       "      <th>year</th>\n",
       "      <th>bpm</th>\n",
       "      <th>nrgy</th>\n",
       "      <th>dnce</th>\n",
       "      <th>dB</th>\n",
       "      <th>live</th>\n",
       "      <th>val</th>\n",
       "      <th>dur</th>\n",
       "      <th>acous</th>\n",
       "      <th>spch</th>\n",
       "      <th>pop</th>\n",
       "    </tr>\n",
       "  </thead>\n",
       "  <tbody>\n",
       "    <tr>\n",
       "      <th>148</th>\n",
       "      <td>2013</td>\n",
       "      <td>104</td>\n",
       "      <td>78</td>\n",
       "      <td>65</td>\n",
       "      <td>-5</td>\n",
       "      <td>12</td>\n",
       "      <td>45</td>\n",
       "      <td>274</td>\n",
       "      <td>13</td>\n",
       "      <td>6</td>\n",
       "      <td>28</td>\n",
       "    </tr>\n",
       "    <tr>\n",
       "      <th>164</th>\n",
       "      <td>2015</td>\n",
       "      <td>130</td>\n",
       "      <td>85</td>\n",
       "      <td>58</td>\n",
       "      <td>-3</td>\n",
       "      <td>14</td>\n",
       "      <td>37</td>\n",
       "      <td>240</td>\n",
       "      <td>1</td>\n",
       "      <td>6</td>\n",
       "      <td>68</td>\n",
       "    </tr>\n",
       "    <tr>\n",
       "      <th>102</th>\n",
       "      <td>2019</td>\n",
       "      <td>136</td>\n",
       "      <td>40</td>\n",
       "      <td>90</td>\n",
       "      <td>-9</td>\n",
       "      <td>6</td>\n",
       "      <td>35</td>\n",
       "      <td>198</td>\n",
       "      <td>5</td>\n",
       "      <td>13</td>\n",
       "      <td>84</td>\n",
       "    </tr>\n",
       "    <tr>\n",
       "      <th>138</th>\n",
       "      <td>2012</td>\n",
       "      <td>92</td>\n",
       "      <td>71</td>\n",
       "      <td>56</td>\n",
       "      <td>-5</td>\n",
       "      <td>11</td>\n",
       "      <td>39</td>\n",
       "      <td>225</td>\n",
       "      <td>0</td>\n",
       "      <td>5</td>\n",
       "      <td>61</td>\n",
       "    </tr>\n",
       "    <tr>\n",
       "      <th>111</th>\n",
       "      <td>2017</td>\n",
       "      <td>192</td>\n",
       "      <td>73</td>\n",
       "      <td>67</td>\n",
       "      <td>-6</td>\n",
       "      <td>6</td>\n",
       "      <td>73</td>\n",
       "      <td>210</td>\n",
       "      <td>1</td>\n",
       "      <td>27</td>\n",
       "      <td>76</td>\n",
       "    </tr>\n",
       "  </tbody>\n",
       "</table>\n",
       "</div>"
      ],
      "text/plain": [
       "     year  bpm  nrgy  dnce  dB  live  val  dur  acous  spch  pop\n",
       "148  2013  104    78    65  -5    12   45  274     13     6   28\n",
       "164  2015  130    85    58  -3    14   37  240      1     6   68\n",
       "102  2019  136    40    90  -9     6   35  198      5    13   84\n",
       "138  2012   92    71    56  -5    11   39  225      0     5   61\n",
       "111  2017  192    73    67  -6     6   73  210      1    27   76"
      ]
     },
     "execution_count": 44,
     "metadata": {},
     "output_type": "execute_result"
    }
   ],
   "source": [
    "X_train.head()"
   ]
  },
  {
   "cell_type": "markdown",
   "metadata": {},
   "source": [
    "## Normalization"
   ]
  },
  {
   "cell_type": "code",
   "execution_count": 45,
   "metadata": {},
   "outputs": [],
   "source": [
    "from sklearn.preprocessing import StandardScaler"
   ]
  },
  {
   "cell_type": "code",
   "execution_count": 46,
   "metadata": {},
   "outputs": [],
   "source": [
    "# Fit scaler\n",
    "scaler = StandardScaler()\n",
    "scaler.fit(X_train)  # apply training data fitted scaler to both train and test data\n",
    "\n",
    "# Transform data\n",
    "x_train = scaler.transform(X_train)\n",
    "x_test = scaler.transform(X_test)"
   ]
  },
  {
   "cell_type": "code",
   "execution_count": 47,
   "metadata": {},
   "outputs": [
    {
     "data": {
      "text/plain": [
       "(-0.0, 1.0)"
      ]
     },
     "execution_count": 47,
     "metadata": {},
     "output_type": "execute_result"
    }
   ],
   "source": [
    "np.mean(x_train).round(2), np.std(x_train)"
   ]
  },
  {
   "cell_type": "code",
   "execution_count": 292,
   "metadata": {},
   "outputs": [
    {
     "name": "stdout",
     "output_type": "stream",
     "text": [
      "[[-0.81 -0.48  0.49  0.22  0.22]\n",
      " [-0.01  0.42  0.84 -0.3   0.59]\n",
      " [ 1.58  0.63 -1.39  2.1  -0.53]\n",
      " [-1.2  -0.9   0.14 -0.45  0.22]\n",
      " [ 0.79  2.58  0.24  0.37  0.03]]\n",
      "[8, 3, 13, 1, 4]\n"
     ]
    }
   ],
   "source": [
    "print(x_train[:5, :5])\n",
    "print(list(y_train[:5]))"
   ]
  },
  {
   "cell_type": "code",
   "execution_count": 383,
   "metadata": {},
   "outputs": [
    {
     "name": "stdout",
     "output_type": "stream",
     "text": [
      "[[-0.81 -0.48  0.49  0.22  0.22]\n",
      " [-0.01  0.42  0.84 -0.3   0.59]\n",
      " [ 1.58  0.63 -1.39  2.1  -0.53]\n",
      " [-1.2  -0.9   0.14 -0.45  0.22]\n",
      " [ 0.79  2.58  0.24  0.37  0.03]] \n",
      "\n",
      "['hip hop' 'complextro' 'r&b' 'barbadian pop' 'dance']\n",
      "[ 8  3 13  1  4]\n"
     ]
    }
   ],
   "source": [
    "# Save model inputs as numpy arrays (.npy)\n",
    "xtrain_file = 'data/003_model_inputs/xtrain.npy'\n",
    "ytrain_file = 'data/003_model_inputs/ytrain.npy'\n",
    "xtest_file = 'data/003_model_inputs/xtest.npy'\n",
    "ytest_file = 'data/003_model_inputs/ytest.npy'\n",
    "\n",
    "np.save(open(xtrain_file, 'wb'), x_train)\n",
    "np.save(open(ytrain_file, 'wb'), np.array(le.inverse_transform(y_train)))\n",
    "np.save(open(xtest_file, 'wb'), x_test)\n",
    "np.save(open(ytest_file, 'wb'), np.array(le.inverse_transform(y_test)))\n",
    "\n",
    "# Reading saved arrays\n",
    "xtrain_from_file = np.load(open(xtrain_file, 'rb'), allow_pickle=True)\n",
    "ytrain_from_file = np.load(open(ytrain_file, 'rb'), allow_pickle=True)\n",
    "xtest_from_file = np.load(open(xtest_file, 'rb'), allow_pickle=True)\n",
    "ytest_from_file = np.load(open(ytest_file, 'rb'), allow_pickle=True)\n",
    "\n",
    "print(xtrain_from_file[:5, :5], '\\n')\n",
    "print(ytrain_from_file[:5])\n",
    "print(le.transform(ytrain_from_file[:5]))"
   ]
  },
  {
   "cell_type": "code",
   "execution_count": 395,
   "metadata": {},
   "outputs": [],
   "source": [
    "x_train = xtrain_from_file\n",
    "y_train = le.transform(ytrain_from_file)\n",
    "\n",
    "x_test = xtest_from_file\n",
    "y_test = le.transform(ytest_from_file)"
   ]
  },
  {
   "cell_type": "markdown",
   "metadata": {},
   "source": [
    "## MLP Classifier"
   ]
  },
  {
   "cell_type": "code",
   "execution_count": 49,
   "metadata": {},
   "outputs": [],
   "source": [
    "from sklearn.neural_network import MLPClassifier"
   ]
  },
  {
   "cell_type": "code",
   "execution_count": 50,
   "metadata": {},
   "outputs": [],
   "source": [
    "from sklearn.metrics import classification_report, confusion_matrix\n",
    "from sklearn.metrics import accuracy_score"
   ]
  },
  {
   "cell_type": "code",
   "execution_count": 51,
   "metadata": {},
   "outputs": [],
   "source": [
    "model = MLPClassifier(hidden_layer_sizes=(3000, 1000, 1000),\n",
    "                      activation='relu',\n",
    "                      solver='adam',\n",
    "                      verbose=False,\n",
    "                      max_iter=2000)"
   ]
  },
  {
   "cell_type": "code",
   "execution_count": 52,
   "metadata": {},
   "outputs": [],
   "source": [
    "model = MLPClassifier(hidden_layer_sizes=(50, 50, 50, 50, 50, 50, 50, 50, 50),\n",
    "                      activation='relu',\n",
    "                      solver='adam',\n",
    "                      verbose=False,\n",
    "                      max_iter=2000)"
   ]
  },
  {
   "cell_type": "code",
   "execution_count": 396,
   "metadata": {},
   "outputs": [],
   "source": [
    "model = MLPClassifier(hidden_layer_sizes=(50, 50, 50, 50),\n",
    "                      activation='relu',\n",
    "                      solver='sgd',\n",
    "                      alpha=0.01,\n",
    "                      learning_rate='constant',\n",
    "                      learning_rate_init=0.05,\n",
    "                      verbose=False,\n",
    "                      max_iter=2000)"
   ]
  },
  {
   "cell_type": "code",
   "execution_count": 400,
   "metadata": {},
   "outputs": [
    {
     "data": {
      "text/plain": [
       "0.21153846153846154"
      ]
     },
     "execution_count": 400,
     "metadata": {},
     "output_type": "execute_result"
    }
   ],
   "source": [
    "model.fit(x_train, y_train)\n",
    "\n",
    "y_pred = model.predict(x_test)\n",
    "accuracy_score(y_test, y_pred)"
   ]
  },
  {
   "cell_type": "code",
   "execution_count": 401,
   "metadata": {},
   "outputs": [
    {
     "name": "stdout",
     "output_type": "stream",
     "text": [
      "              precision    recall  f1-score   support\n",
      "\n",
      "           0       0.17      0.25      0.20         4\n",
      "           1       0.50      0.20      0.29         5\n",
      "           2       0.00      0.00      0.00         7\n",
      "           3       0.00      0.00      0.00         0\n",
      "           4       0.33      1.00      0.50         1\n",
      "           5       0.50      0.17      0.25         6\n",
      "           6       0.00      0.00      0.00         2\n",
      "           7       0.00      0.00      0.00         1\n",
      "           8       0.33      1.00      0.50         3\n",
      "           9       0.00      0.00      0.00         3\n",
      "          10       0.00      0.00      0.00         3\n",
      "          11       0.00      0.00      0.00         1\n",
      "          12       0.17      0.25      0.20         4\n",
      "          13       1.00      0.20      0.33         5\n",
      "          14       0.33      0.25      0.29         4\n",
      "          15       0.25      0.33      0.29         3\n",
      "\n",
      "    accuracy                           0.21        52\n",
      "   macro avg       0.22      0.23      0.18        52\n",
      "weighted avg       0.29      0.21      0.20        52\n",
      "\n"
     ]
    }
   ],
   "source": [
    "print(classification_report(y_test, y_pred))"
   ]
  },
  {
   "cell_type": "code",
   "execution_count": 402,
   "metadata": {},
   "outputs": [],
   "source": [
    "from sklearn.utils.multiclass import unique_labels\n",
    "\n",
    "def plot_confusion_matrix(y_true, y_pred, classes, normalize=False, title=None, cmap=plt.cm.Oranges):\n",
    "    matriz_confusao = np.zeros((20,20))\n",
    "    if not title:\n",
    "        if normalize:\n",
    "            title = 'Matriz de confusão normalizada'\n",
    "        else:\n",
    "            title = 'Confusion matrix, without normalization'\n",
    "\n",
    "    cm = confusion_matrix(y_true, y_pred)\n",
    "    classes = classes[unique_labels(y_true, y_pred)]\n",
    "    if normalize:\n",
    "        cm = cm.astype('float') / cm.sum(axis=1)[:, np.newaxis]\n",
    "        print(\"Matriz de confusão normalizada\")\n",
    "    else:\n",
    "        print('Confusion matrix, without normalization')\n",
    "\n",
    "    fig, ax = plt.subplots(figsize=(9,9))\n",
    "    im = ax.imshow(cm, interpolation='nearest', cmap=cmap)\n",
    "    #ax.figure.colorbar(im, ax=ax)\n",
    "    ax.figure.colorbar(im, ax=ax, fraction=0.046, pad=0.04)\n",
    "    ax.set(xticks=np.arange(cm.shape[1]),\n",
    "           yticks=np.arange(cm.shape[0]),\n",
    "           xticklabels=classes, yticklabels=classes,\n",
    "           title=title,\n",
    "           ylabel='Rótulo verdadeiro',\n",
    "           xlabel='Rótulo previsto')\n",
    "\n",
    "    plt.setp(ax.get_xticklabels(), rotation=45, ha=\"right\",\n",
    "             rotation_mode=\"anchor\")\n",
    "\n",
    "    fmt = '.2f' if normalize else 'd'\n",
    "    thresh = cm.max() / 2.\n",
    "    for i in range(cm.shape[0]):\n",
    "        for j in range(cm.shape[1]):\n",
    "            ax.text(j, i, format(cm[i, j], fmt),\n",
    "                    ha=\"center\", va=\"center\",\n",
    "                    color=\"white\" if cm[i, j] > thresh else \"black\")\n",
    "            matriz_confusao[i,j] = cm[i, j]\n",
    "    fig.tight_layout()\n",
    "    return fig,ax,matriz_confusao"
   ]
  },
  {
   "cell_type": "code",
   "execution_count": 438,
   "metadata": {},
   "outputs": [
    {
     "name": "stdout",
     "output_type": "stream",
     "text": [
      "Matriz de confusão normalizada\n"
     ]
    },
    {
     "data": {
      "image/png": "[encoded data removed]",
      "text/plain": [
       "<Figure size 648x648 with 2 Axes>"
      ]
     },
     "metadata": {},
     "output_type": "display_data"
    }
   ],
   "source": [
    "np.set_printoptions(precision=2)\n",
    "\n",
    "ylabel_test = le.inverse_transform(y_test)\n",
    "ylabel_pred = le.inverse_transform(y_pred)\n",
    "names_classes = np.array(unique_labels(le.inverse_transform(df.supergenre)))\n",
    "\n",
    "# Plot normalized confusion matrix\n",
    "fig,ax,matriz_confusao=plot_confusion_matrix(y_test,\n",
    "                                             y_pred,\n",
    "                                             classes=names_classes,\n",
    "                                             normalize=True)\n",
    "plt.show()\n",
    "\n",
    "# Save figure\n",
    "#figname = 'figures/001conf_mat_simple.png'\n",
    "#fig.savefig(figname)"
   ]
  },
  {
   "cell_type": "code",
   "execution_count": 250,
   "metadata": {},
   "outputs": [
    {
     "data": {
      "text/html": [
       "<div>\n",
       "<style scoped>\n",
       "    .dataframe tbody tr th:only-of-type {\n",
       "        vertical-align: middle;\n",
       "    }\n",
       "\n",
       "    .dataframe tbody tr th {\n",
       "        vertical-align: top;\n",
       "    }\n",
       "\n",
       "    .dataframe thead th {\n",
       "        text-align: right;\n",
       "    }\n",
       "</style>\n",
       "<table border=\"1\" class=\"dataframe\">\n",
       "  <thead>\n",
       "    <tr style=\"text-align: right;\">\n",
       "      <th></th>\n",
       "      <th>test</th>\n",
       "      <th>pred</th>\n",
       "    </tr>\n",
       "  </thead>\n",
       "  <tbody>\n",
       "    <tr>\n",
       "      <th>0</th>\n",
       "      <td>hip hop</td>\n",
       "      <td>hip hop</td>\n",
       "    </tr>\n",
       "    <tr>\n",
       "      <th>1</th>\n",
       "      <td>room</td>\n",
       "      <td>band</td>\n",
       "    </tr>\n",
       "    <tr>\n",
       "      <th>2</th>\n",
       "      <td>canadian pop</td>\n",
       "      <td>band</td>\n",
       "    </tr>\n",
       "    <tr>\n",
       "      <th>3</th>\n",
       "      <td>room</td>\n",
       "      <td>complextro</td>\n",
       "    </tr>\n",
       "    <tr>\n",
       "      <th>4</th>\n",
       "      <td>band</td>\n",
       "      <td>dance pop</td>\n",
       "    </tr>\n",
       "  </tbody>\n",
       "</table>\n",
       "</div>"
      ],
      "text/plain": [
       "           test        pred\n",
       "0       hip hop     hip hop\n",
       "1          room        band\n",
       "2  canadian pop        band\n",
       "3          room  complextro\n",
       "4          band   dance pop"
      ]
     },
     "execution_count": 250,
     "metadata": {},
     "output_type": "execute_result"
    }
   ],
   "source": [
    "# comparando os rótulos previsto X realizado no dataset de TESTE\n",
    "df_test_pred = pd.DataFrame({'test': ylabel_test, 'pred': ylabel_pred})\n",
    "df_test_pred.head()"
   ]
  },
  {
   "cell_type": "code",
   "execution_count": 252,
   "metadata": {},
   "outputs": [
    {
     "data": {
      "text/html": [
       "<div>\n",
       "<style scoped>\n",
       "    .dataframe tbody tr th:only-of-type {\n",
       "        vertical-align: middle;\n",
       "    }\n",
       "\n",
       "    .dataframe tbody tr th {\n",
       "        vertical-align: top;\n",
       "    }\n",
       "\n",
       "    .dataframe thead th {\n",
       "        text-align: right;\n",
       "    }\n",
       "</style>\n",
       "<table border=\"1\" class=\"dataframe\">\n",
       "  <thead>\n",
       "    <tr style=\"text-align: right;\">\n",
       "      <th></th>\n",
       "      <th>test</th>\n",
       "      <th>pred</th>\n",
       "    </tr>\n",
       "  </thead>\n",
       "  <tbody>\n",
       "    <tr>\n",
       "      <th>6</th>\n",
       "      <td>mellow</td>\n",
       "      <td>soul</td>\n",
       "    </tr>\n",
       "    <tr>\n",
       "      <th>14</th>\n",
       "      <td>electropop</td>\n",
       "      <td>electropop</td>\n",
       "    </tr>\n",
       "  </tbody>\n",
       "</table>\n",
       "</div>"
      ],
      "text/plain": [
       "          test        pred\n",
       "6       mellow        soul\n",
       "14  electropop  electropop"
      ]
     },
     "execution_count": 252,
     "metadata": {},
     "output_type": "execute_result"
    }
   ],
   "source": [
    "# rótulos que tiveram alto valor de acurácia na classe\n",
    "df_test_pred[df_test_pred.test.isin(['mellow', 'electropop'])]\n",
    "\n",
    "#df_test_pred[df_test_pred.test.isin(['complextro'])]"
   ]
  },
  {
   "cell_type": "code",
   "execution_count": 256,
   "metadata": {},
   "outputs": [
    {
     "data": {
      "text/plain": [
       "array([ 8,  0,  0,  3,  5, 12, 15, 11, 14, 12,  1,  5,  0,  7,  7, 13, 13,\n",
       "       14,  5,  1,  8,  0,  8, 14, 14,  5, 14,  1,  1, 15,  3,  1,  8, 14,\n",
       "       14, 15, 12,  7,  4,  7,  1, 12, 10, 12,  3,  3, 14,  2,  6, 14,  7,\n",
       "        1])"
      ]
     },
     "execution_count": 256,
     "metadata": {},
     "output_type": "execute_result"
    }
   ],
   "source": [
    "# Saving model as pickle\n",
    "import joblib\n",
    "\n",
    "# Save the model as a pickle in a file\n",
    "outfile = 'data/004_models/001mlp_simple.pkl'\n",
    "joblib.dump(model, outfile)\n",
    "\n",
    "# Load the model from the file\n",
    "model_from_joblib = joblib.load(outfile)\n",
    "\n",
    "# Use the loaded model to make predictions\n",
    "model_from_joblib.predict(x_test)"
   ]
  },
  {
   "cell_type": "markdown",
   "metadata": {},
   "source": [
    "## Looking at correlation"
   ]
  },
  {
   "cell_type": "code",
   "execution_count": 70,
   "metadata": {},
   "outputs": [
    {
     "data": {
      "text/html": [
       "<div>\n",
       "<style scoped>\n",
       "    .dataframe tbody tr th:only-of-type {\n",
       "        vertical-align: middle;\n",
       "    }\n",
       "\n",
       "    .dataframe tbody tr th {\n",
       "        vertical-align: top;\n",
       "    }\n",
       "\n",
       "    .dataframe thead th {\n",
       "        text-align: right;\n",
       "    }\n",
       "</style>\n",
       "<table border=\"1\" class=\"dataframe\">\n",
       "  <thead>\n",
       "    <tr style=\"text-align: right;\">\n",
       "      <th></th>\n",
       "      <th>year</th>\n",
       "      <th>bpm</th>\n",
       "      <th>nrgy</th>\n",
       "      <th>dnce</th>\n",
       "      <th>dB</th>\n",
       "      <th>live</th>\n",
       "      <th>val</th>\n",
       "      <th>dur</th>\n",
       "      <th>acous</th>\n",
       "      <th>spch</th>\n",
       "      <th>pop</th>\n",
       "      <th>supergenre</th>\n",
       "    </tr>\n",
       "  </thead>\n",
       "  <tbody>\n",
       "    <tr>\n",
       "      <th>0</th>\n",
       "      <td>2015</td>\n",
       "      <td>120</td>\n",
       "      <td>51</td>\n",
       "      <td>83</td>\n",
       "      <td>-9</td>\n",
       "      <td>8</td>\n",
       "      <td>45</td>\n",
       "      <td>208</td>\n",
       "      <td>1</td>\n",
       "      <td>4</td>\n",
       "      <td>77</td>\n",
       "      <td>9</td>\n",
       "    </tr>\n",
       "    <tr>\n",
       "      <th>1</th>\n",
       "      <td>2014</td>\n",
       "      <td>76</td>\n",
       "      <td>34</td>\n",
       "      <td>68</td>\n",
       "      <td>-9</td>\n",
       "      <td>9</td>\n",
       "      <td>56</td>\n",
       "      <td>160</td>\n",
       "      <td>84</td>\n",
       "      <td>3</td>\n",
       "      <td>49</td>\n",
       "      <td>11</td>\n",
       "    </tr>\n",
       "    <tr>\n",
       "      <th>2</th>\n",
       "      <td>2015</td>\n",
       "      <td>120</td>\n",
       "      <td>82</td>\n",
       "      <td>57</td>\n",
       "      <td>-3</td>\n",
       "      <td>16</td>\n",
       "      <td>66</td>\n",
       "      <td>211</td>\n",
       "      <td>6</td>\n",
       "      <td>3</td>\n",
       "      <td>52</td>\n",
       "      <td>5</td>\n",
       "    </tr>\n",
       "    <tr>\n",
       "      <th>3</th>\n",
       "      <td>2013</td>\n",
       "      <td>121</td>\n",
       "      <td>66</td>\n",
       "      <td>60</td>\n",
       "      <td>-6</td>\n",
       "      <td>12</td>\n",
       "      <td>29</td>\n",
       "      <td>245</td>\n",
       "      <td>23</td>\n",
       "      <td>5</td>\n",
       "      <td>81</td>\n",
       "      <td>0</td>\n",
       "    </tr>\n",
       "    <tr>\n",
       "      <th>4</th>\n",
       "      <td>2016</td>\n",
       "      <td>142</td>\n",
       "      <td>28</td>\n",
       "      <td>59</td>\n",
       "      <td>-5</td>\n",
       "      <td>15</td>\n",
       "      <td>34</td>\n",
       "      <td>272</td>\n",
       "      <td>88</td>\n",
       "      <td>3</td>\n",
       "      <td>71</td>\n",
       "      <td>15</td>\n",
       "    </tr>\n",
       "  </tbody>\n",
       "</table>\n",
       "</div>"
      ],
      "text/plain": [
       "   year  bpm  nrgy  dnce  dB  live  val  dur  acous  spch  pop  supergenre\n",
       "0  2015  120    51    83  -9     8   45  208      1     4   77           9\n",
       "1  2014   76    34    68  -9     9   56  160     84     3   49          11\n",
       "2  2015  120    82    57  -3    16   66  211      6     3   52           5\n",
       "3  2013  121    66    60  -6    12   29  245     23     5   81           0\n",
       "4  2016  142    28    59  -5    15   34  272     88     3   71          15"
      ]
     },
     "execution_count": 70,
     "metadata": {},
     "output_type": "execute_result"
    }
   ],
   "source": [
    "df.head()"
   ]
  },
  {
   "cell_type": "code",
   "execution_count": 71,
   "metadata": {},
   "outputs": [
    {
     "data": {
      "text/plain": [
       "year    0.069830\n",
       "bpm     0.022780\n",
       "dnce   -0.041603\n",
       "live    0.032766\n",
       "spch   -0.029684\n",
       "pop    -0.015456\n",
       "Name: supergenre, dtype: float64"
      ]
     },
     "execution_count": 71,
     "metadata": {},
     "output_type": "execute_result"
    }
   ],
   "source": [
    "df_corr.supergenre[abs(df_corr.supergenre) < 0.1]"
   ]
  },
  {
   "cell_type": "code",
   "execution_count": 72,
   "metadata": {},
   "outputs": [
    {
     "data": {
      "text/plain": [
       "Index(['year', 'bpm', 'dnce', 'live', 'spch', 'pop'], dtype='object')"
      ]
     },
     "execution_count": 72,
     "metadata": {},
     "output_type": "execute_result"
    }
   ],
   "source": [
    "df_corr.supergenre[abs(df_corr.supergenre) < 0.1].index"
   ]
  },
  {
   "cell_type": "code",
   "execution_count": 73,
   "metadata": {},
   "outputs": [
    {
     "data": {
      "text/html": [
       "<div>\n",
       "<style scoped>\n",
       "    .dataframe tbody tr th:only-of-type {\n",
       "        vertical-align: middle;\n",
       "    }\n",
       "\n",
       "    .dataframe tbody tr th {\n",
       "        vertical-align: top;\n",
       "    }\n",
       "\n",
       "    .dataframe thead th {\n",
       "        text-align: right;\n",
       "    }\n",
       "</style>\n",
       "<table border=\"1\" class=\"dataframe\">\n",
       "  <thead>\n",
       "    <tr style=\"text-align: right;\">\n",
       "      <th></th>\n",
       "      <th>year</th>\n",
       "      <th>bpm</th>\n",
       "      <th>nrgy</th>\n",
       "      <th>dnce</th>\n",
       "      <th>dB</th>\n",
       "      <th>live</th>\n",
       "      <th>val</th>\n",
       "      <th>dur</th>\n",
       "      <th>acous</th>\n",
       "      <th>spch</th>\n",
       "      <th>pop</th>\n",
       "      <th>supergenre</th>\n",
       "    </tr>\n",
       "  </thead>\n",
       "  <tbody>\n",
       "    <tr>\n",
       "      <th>0</th>\n",
       "      <td>2015</td>\n",
       "      <td>120</td>\n",
       "      <td>51</td>\n",
       "      <td>83</td>\n",
       "      <td>-9</td>\n",
       "      <td>8</td>\n",
       "      <td>45</td>\n",
       "      <td>208</td>\n",
       "      <td>1</td>\n",
       "      <td>4</td>\n",
       "      <td>77</td>\n",
       "      <td>9</td>\n",
       "    </tr>\n",
       "    <tr>\n",
       "      <th>1</th>\n",
       "      <td>2014</td>\n",
       "      <td>76</td>\n",
       "      <td>34</td>\n",
       "      <td>68</td>\n",
       "      <td>-9</td>\n",
       "      <td>9</td>\n",
       "      <td>56</td>\n",
       "      <td>160</td>\n",
       "      <td>84</td>\n",
       "      <td>3</td>\n",
       "      <td>49</td>\n",
       "      <td>11</td>\n",
       "    </tr>\n",
       "    <tr>\n",
       "      <th>2</th>\n",
       "      <td>2015</td>\n",
       "      <td>120</td>\n",
       "      <td>82</td>\n",
       "      <td>57</td>\n",
       "      <td>-3</td>\n",
       "      <td>16</td>\n",
       "      <td>66</td>\n",
       "      <td>211</td>\n",
       "      <td>6</td>\n",
       "      <td>3</td>\n",
       "      <td>52</td>\n",
       "      <td>5</td>\n",
       "    </tr>\n",
       "    <tr>\n",
       "      <th>3</th>\n",
       "      <td>2013</td>\n",
       "      <td>121</td>\n",
       "      <td>66</td>\n",
       "      <td>60</td>\n",
       "      <td>-6</td>\n",
       "      <td>12</td>\n",
       "      <td>29</td>\n",
       "      <td>245</td>\n",
       "      <td>23</td>\n",
       "      <td>5</td>\n",
       "      <td>81</td>\n",
       "      <td>0</td>\n",
       "    </tr>\n",
       "    <tr>\n",
       "      <th>4</th>\n",
       "      <td>2016</td>\n",
       "      <td>142</td>\n",
       "      <td>28</td>\n",
       "      <td>59</td>\n",
       "      <td>-5</td>\n",
       "      <td>15</td>\n",
       "      <td>34</td>\n",
       "      <td>272</td>\n",
       "      <td>88</td>\n",
       "      <td>3</td>\n",
       "      <td>71</td>\n",
       "      <td>15</td>\n",
       "    </tr>\n",
       "  </tbody>\n",
       "</table>\n",
       "</div>"
      ],
      "text/plain": [
       "   year  bpm  nrgy  dnce  dB  live  val  dur  acous  spch  pop  supergenre\n",
       "0  2015  120    51    83  -9     8   45  208      1     4   77           9\n",
       "1  2014   76    34    68  -9     9   56  160     84     3   49          11\n",
       "2  2015  120    82    57  -3    16   66  211      6     3   52           5\n",
       "3  2013  121    66    60  -6    12   29  245     23     5   81           0\n",
       "4  2016  142    28    59  -5    15   34  272     88     3   71          15"
      ]
     },
     "execution_count": 73,
     "metadata": {},
     "output_type": "execute_result"
    }
   ],
   "source": [
    "df.head()"
   ]
  },
  {
   "cell_type": "code",
   "execution_count": 74,
   "metadata": {},
   "outputs": [
    {
     "data": {
      "text/html": [
       "<div>\n",
       "<style scoped>\n",
       "    .dataframe tbody tr th:only-of-type {\n",
       "        vertical-align: middle;\n",
       "    }\n",
       "\n",
       "    .dataframe tbody tr th {\n",
       "        vertical-align: top;\n",
       "    }\n",
       "\n",
       "    .dataframe thead th {\n",
       "        text-align: right;\n",
       "    }\n",
       "</style>\n",
       "<table border=\"1\" class=\"dataframe\">\n",
       "  <thead>\n",
       "    <tr style=\"text-align: right;\">\n",
       "      <th></th>\n",
       "      <th>nrgy</th>\n",
       "      <th>dB</th>\n",
       "      <th>val</th>\n",
       "      <th>dur</th>\n",
       "      <th>acous</th>\n",
       "    </tr>\n",
       "  </thead>\n",
       "  <tbody>\n",
       "    <tr>\n",
       "      <th>0</th>\n",
       "      <td>51</td>\n",
       "      <td>-9</td>\n",
       "      <td>45</td>\n",
       "      <td>208</td>\n",
       "      <td>1</td>\n",
       "    </tr>\n",
       "    <tr>\n",
       "      <th>1</th>\n",
       "      <td>34</td>\n",
       "      <td>-9</td>\n",
       "      <td>56</td>\n",
       "      <td>160</td>\n",
       "      <td>84</td>\n",
       "    </tr>\n",
       "    <tr>\n",
       "      <th>2</th>\n",
       "      <td>82</td>\n",
       "      <td>-3</td>\n",
       "      <td>66</td>\n",
       "      <td>211</td>\n",
       "      <td>6</td>\n",
       "    </tr>\n",
       "  </tbody>\n",
       "</table>\n",
       "</div>"
      ],
      "text/plain": [
       "   nrgy  dB  val  dur  acous\n",
       "0    51  -9   45  208      1\n",
       "1    34  -9   56  160     84\n",
       "2    82  -3   66  211      6"
      ]
     },
     "execution_count": 74,
     "metadata": {},
     "output_type": "execute_result"
    }
   ],
   "source": [
    "dcorr = df.drop(['year', 'bpm', 'dnce', 'live', 'spch', 'pop'], axis=1)\n",
    "Xcorr = dcorr.drop('supergenre', axis=1)\n",
    "ycorr = dcorr.supergenre\n",
    "\n",
    "Xcorr.head(3)"
   ]
  },
  {
   "cell_type": "code",
   "execution_count": 277,
   "metadata": {},
   "outputs": [
    {
     "name": "stdout",
     "output_type": "stream",
     "text": [
      "[[ 51  -9  45 208   1]\n",
      " [ 34  -9  56 160  84]\n",
      " [ 82  -3  66 211   6]\n",
      " [ 66  -6  29 245  23]\n",
      " [ 28  -5  34 272  88]] \n",
      "\n",
      "['house' 'mellow' 'dance pop' 'band' 'soul']\n"
     ]
    }
   ],
   "source": [
    "print(np.array(Xcorr)[:5], '\\n')\n",
    "print(np.array(le.inverse_transform(ycorr))[:5])"
   ]
  },
  {
   "cell_type": "code",
   "execution_count": 75,
   "metadata": {},
   "outputs": [],
   "source": [
    "#New training\n",
    "\n",
    "# train test split\n",
    "Xc_train, Xc_test, yc_train, yc_test = train_test_split(Xcorr, ycorr, test_size=0.3)\n",
    "\n",
    "# Fit scaler\n",
    "scaler = StandardScaler()\n",
    "scaler.fit(Xc_train)  # apply training data fitted scaler to both train and test data\n",
    "\n",
    "# Transform data\n",
    "xc_train = scaler.transform(Xc_train)\n",
    "xc_test = scaler.transform(Xc_test)"
   ]
  },
  {
   "cell_type": "code",
   "execution_count": 297,
   "metadata": {},
   "outputs": [
    {
     "name": "stdout",
     "output_type": "stream",
     "text": [
      "[[-0.17  0.35 -0.53  0.03 -0.49]\n",
      " [ 0.65  0.84  0.29 -0.6  -0.45]\n",
      " [ 0.75  0.35 -0.42  0.21 -0.52]\n",
      " [ 0.24  0.84  0.65  0.35 -0.26]\n",
      " [-0.17 -0.61 -1.19 -0.02 -0.68]] \n",
      "\n",
      "[1, 5, 0, 1, 7]\n"
     ]
    }
   ],
   "source": [
    "print(xc_train[:5, :5], '\\n')\n",
    "print(list(yc_train[:5]))"
   ]
  },
  {
   "cell_type": "code",
   "execution_count": 293,
   "metadata": {},
   "outputs": [
    {
     "name": "stdout",
     "output_type": "stream",
     "text": [
      "[[-0.17  0.35 -0.53  0.03 -0.49]\n",
      " [ 0.65  0.84  0.29 -0.6  -0.45]\n",
      " [ 0.75  0.35 -0.42  0.21 -0.52]\n",
      " [ 0.24  0.84  0.65  0.35 -0.26]\n",
      " [-0.17 -0.61 -1.19 -0.02 -0.68]] \n",
      "\n",
      "['barbadian pop' 'dance pop' 'band' 'barbadian pop' 'electropop']\n",
      "[1 5 0 1 7]\n"
     ]
    }
   ],
   "source": [
    "# Save model inputs as numpy arrays (.npy)\n",
    "xtrain_file = 'data/003_model_inputs/xtrain_corr.npy'\n",
    "ytrain_file = 'data/003_model_inputs/ytrain_corr.npy'\n",
    "xtest_file = 'data/003_model_inputs/xtest_corr.npy'\n",
    "ytest_file = 'data/003_model_inputs/ytest_corr.npy'\n",
    "\n",
    "np.save(open(xtrain_file, 'wb'), np.array(xc_train))\n",
    "np.save(open(ytrain_file, 'wb'), np.array(le.inverse_transform(yc_train)))\n",
    "np.save(open(xtest_file, 'wb'), np.array(xc_test))\n",
    "np.save(open(ytest_file, 'wb'), np.array(le.inverse_transform(yc_test)))\n",
    "\n",
    "# Reading saved arrays\n",
    "xtrain_from_file = np.load(open(xtrain_file, 'rb'), allow_pickle=True)\n",
    "ytrain_from_file = np.load(open(ytrain_file, 'rb'), allow_pickle=True)\n",
    "xtest_from_file = np.load(open(xtest_file, 'rb'), allow_pickle=True)\n",
    "ytest_from_file = np.load(open(ytest_file, 'rb'), allow_pickle=True)\n",
    "\n",
    "print(xtrain_from_file[:5, :5], '\\n')\n",
    "print(ytrain_from_file[:5])\n",
    "print(le.transform(ytrain_from_file[:5]))"
   ]
  },
  {
   "cell_type": "code",
   "execution_count": 433,
   "metadata": {},
   "outputs": [
    {
     "data": {
      "text/plain": [
       "0.15384615384615385"
      ]
     },
     "execution_count": 433,
     "metadata": {},
     "output_type": "execute_result"
    }
   ],
   "source": [
    "# Model creation\n",
    "model_corr = MLPClassifier(hidden_layer_sizes=(500, ),\n",
    "                           activation='relu',\n",
    "                           solver='adam',\n",
    "                           verbose=False,\n",
    "                           max_iter=2000)\n",
    "\n",
    "# Model fitting\n",
    "model_corr.fit(xc_train, yc_train)\n",
    "\n",
    "# Model predictions\n",
    "yc_pred = model_corr.predict(xc_test)\n",
    "accuracy_score(yc_test, yc_pred)"
   ]
  },
  {
   "cell_type": "code",
   "execution_count": 420,
   "metadata": {},
   "outputs": [
    {
     "data": {
      "text/plain": [
       "array([ 2,  8,  8,  7, 12,  2, 12, 12,  9,  7,  5, 14,  4, 15,  7,  6, 12,\n",
       "        1, 12, 10,  7,  1,  9, 15, 12,  5, 15,  0,  7,  1,  0,  9, 12, 10,\n",
       "        7,  2, 10,  7, 14,  1,  4,  0,  2,  9,  1,  2,  4, 12,  8, 12, 12,\n",
       "       11])"
      ]
     },
     "execution_count": 420,
     "metadata": {},
     "output_type": "execute_result"
    }
   ],
   "source": [
    "# Saving model as pickle\n",
    "import joblib\n",
    "\n",
    "# Save the model as a pickle in a file\n",
    "outfile = 'data/004_models/002mlp_corr.pkl'\n",
    "joblib.dump(model_corr, outfile)\n",
    "\n",
    "# Load the model from the file\n",
    "model_corr_from_joblib = joblib.load(outfile)\n",
    "\n",
    "# Use the loaded model to make predictions\n",
    "model_corr_from_joblib.predict(xc_test)"
   ]
  },
  {
   "cell_type": "code",
   "execution_count": 439,
   "metadata": {},
   "outputs": [
    {
     "name": "stdout",
     "output_type": "stream",
     "text": [
      "Matriz de confusão normalizada\n"
     ]
    },
    {
     "data": {
      "image/png": "[encoded data removed]",
      "text/plain": [
       "<Figure size 648x648 with 2 Axes>"
      ]
     },
     "metadata": {},
     "output_type": "display_data"
    }
   ],
   "source": [
    "np.set_printoptions(precision=2)\n",
    "\n",
    "ylabel_test = le.inverse_transform(list(yc_test))\n",
    "ylabel_pred = le.inverse_transform(yc_pred)\n",
    "names_classes = np.array(unique_labels(le.inverse_transform(df.supergenre)))\n",
    "\n",
    "# Plot normalized confusion matrix\n",
    "fig, ax, matriz_confusao = plot_confusion_matrix(yc_test,\n",
    "                                                 yc_pred,\n",
    "                                                 classes=names_classes,\n",
    "                                                 normalize=True)\n",
    "plt.show()\n",
    "\n",
    "# Save figure\n",
    "#figname = 'figures/002conf_mat_corr.png'\n",
    "#fig.savefig(figname)"
   ]
  },
  {
   "cell_type": "markdown",
   "metadata": {},
   "source": [
    "## Programatic approach"
   ]
  },
  {
   "cell_type": "code",
   "execution_count": 77,
   "metadata": {},
   "outputs": [],
   "source": [
    "def run_classifier(layers, activation, xc_train, yc_train, xc_test, yc_test):\n",
    "    # Model creation\n",
    "    model = MLPClassifier(hidden_layer_sizes=layers,\n",
    "                          activation=activation,\n",
    "                          solver='adam',\n",
    "                          verbose=False,\n",
    "                          max_iter=2000)\n",
    "\n",
    "    # Model fitting\n",
    "    model.fit(xc_train, yc_train)\n",
    "\n",
    "    # Model predictions\n",
    "    yc_pred = model.predict(xc_test)\n",
    "    \n",
    "    return {'acc': accuracy_score(yc_test, yc_pred),\n",
    "            'model': model}"
   ]
  },
  {
   "cell_type": "code",
   "execution_count": 78,
   "metadata": {},
   "outputs": [
    {
     "data": {
      "text/plain": [
       "{'acc': 0.17307692307692307,\n",
       " 'model': MLPClassifier(hidden_layer_sizes=(100, 40), max_iter=2000)}"
      ]
     },
     "execution_count": 78,
     "metadata": {},
     "output_type": "execute_result"
    }
   ],
   "source": [
    "run_classifier((100, 40), 'relu', xc_train, yc_train, xc_test, yc_test)"
   ]
  },
  {
   "cell_type": "code",
   "execution_count": 79,
   "metadata": {},
   "outputs": [],
   "source": [
    "def build_layers(nlayers, sizes):\n",
    "    all_layers = []\n",
    "    \n",
    "    for n in nlayers:\n",
    "        for size in sizes:\n",
    "            all_layers.append(tuple([size]*n))\n",
    "    \n",
    "    return all_layers"
   ]
  },
  {
   "cell_type": "code",
   "execution_count": 80,
   "metadata": {},
   "outputs": [
    {
     "name": "stdout",
     "output_type": "stream",
     "text": [
      "len: 20\n",
      "[(30,), (40,), (50,), (100,), (30, 30), (40, 40), (50, 50), (100, 100), (30, 30, 30), (40, 40, 40), (50, 50, 50), (100, 100, 100), (30, 30, 30, 30), (40, 40, 40, 40), (50, 50, 50, 50), (100, 100, 100, 100), (30, 30, 30, 30, 30), (40, 40, 40, 40, 40), (50, 50, 50, 50, 50), (100, 100, 100, 100, 100)]\n"
     ]
    }
   ],
   "source": [
    "nlayers = [1, 2, 3, 4, 5]\n",
    "layer_size = [30, 40, 50, 100]\n",
    "\n",
    "hidden_layers = build_layers(nlayers, layer_size)\n",
    "print(f'len: {len(hidden_layers)}')\n",
    "print(hidden_layers)"
   ]
  },
  {
   "cell_type": "code",
   "execution_count": 81,
   "metadata": {},
   "outputs": [],
   "source": [
    "actv_func = {'logistic', 'tanh', 'relu'}  # 'identity'\n",
    "all_models = []\n",
    "for func in actv_func:\n",
    "    for hidden in hidden_layers:\n",
    "        all_models.append(run_classifier(hidden, func, xc_train, yc_train, xc_test, yc_test))"
   ]
  },
  {
   "cell_type": "code",
   "execution_count": 424,
   "metadata": {},
   "outputs": [
    {
     "data": {
      "text/plain": [
       "[{'acc': 0.23076923076923078,\n",
       "  'model': MLPClassifier(hidden_layer_sizes=(50, 50, 50), max_iter=2000)}]"
      ]
     },
     "execution_count": 424,
     "metadata": {},
     "output_type": "execute_result"
    }
   ],
   "source": [
    "# change max_acc until only 1 model is left\n",
    "max_acc = 0.23\n",
    "best_model_prog_corr = [model for model in all_models if model['acc'] >= max_acc]\n",
    "best_model_prog_corr"
   ]
  },
  {
   "cell_type": "code",
   "execution_count": 425,
   "metadata": {},
   "outputs": [
    {
     "data": {
      "text/plain": [
       "array([ 2,  8,  8,  2,  0,  2, 15, 12,  7,  2,  5, 14,  0, 15,  7,  7,  0,\n",
       "        1, 12, 10, 13,  1,  9, 15, 14,  5, 15, 15,  7,  1,  0,  9, 12, 10,\n",
       "        7,  2,  9,  7, 14,  8,  4,  0,  2,  9,  1,  2,  4, 12,  8, 13, 12,\n",
       "        5])"
      ]
     },
     "execution_count": 425,
     "metadata": {},
     "output_type": "execute_result"
    }
   ],
   "source": [
    "# Saving model as pickle\n",
    "import joblib\n",
    "\n",
    "# Save the model as a pickle in a file\n",
    "outfile = 'data/004_models/003mlp_prog_corr.pkl'\n",
    "joblib.dump(best_model_prog_corr[0]['model'], outfile)\n",
    "\n",
    "# Load the model from the file\n",
    "model_prog_corr_from_joblib = joblib.load(outfile)\n",
    "\n",
    "# Use the loaded model to make predictions\n",
    "model_prog_corr_from_joblib.predict(xc_test)"
   ]
  },
  {
   "cell_type": "code",
   "execution_count": 436,
   "metadata": {},
   "outputs": [
    {
     "data": {
      "text/plain": [
       "0.23076923076923078"
      ]
     },
     "execution_count": 436,
     "metadata": {},
     "output_type": "execute_result"
    }
   ],
   "source": [
    "yc_prog_pred = best_model_prog_corr[0]['model'].predict(xc_test)\n",
    "\n",
    "accuracy_score(yc_test, yc_prog_pred)"
   ]
  },
  {
   "cell_type": "code",
   "execution_count": 440,
   "metadata": {},
   "outputs": [
    {
     "name": "stdout",
     "output_type": "stream",
     "text": [
      "Matriz de confusão normalizada\n"
     ]
    },
    {
     "data": {
      "image/png": "[encoded data removed]",
      "text/plain": [
       "<Figure size 648x648 with 2 Axes>"
      ]
     },
     "metadata": {},
     "output_type": "display_data"
    }
   ],
   "source": [
    "np.set_printoptions(precision=2)\n",
    "\n",
    "ylabel_test = le.inverse_transform(list(yc_test))\n",
    "ylabel_pred = le.inverse_transform(yc_prog_pred)\n",
    "names_classes = np.array(unique_labels(le.inverse_transform(df.supergenre)))\n",
    "\n",
    "# Plot normalized confusion matrix\n",
    "fig, ax, matriz_confusao = plot_confusion_matrix(yc_test,\n",
    "                                                 yc_prog_pred,\n",
    "                                                 classes=names_classes,\n",
    "                                                 normalize=True)\n",
    "plt.show()\n",
    "\n",
    "# Save figure\n",
    "#figname = 'figures/003conf_mat_prog_corr.png'\n",
    "#fig.savefig(figname)"
   ]
  },
  {
   "cell_type": "markdown",
   "metadata": {},
   "source": [
    "## Hyper-parameter optimization: GridSearchCV\n",
    "\n",
    "**How to improve my hyper-parameters?**\n",
    "\n",
    "https://datascience.stackexchange.com/questions/36049/how-to-adjust-the-hyperparameters-of-mlp-classifier-to-get-more-perfect-performa"
   ]
  },
  {
   "cell_type": "code",
   "execution_count": 117,
   "metadata": {},
   "outputs": [
    {
     "name": "stdout",
     "output_type": "stream",
     "text": [
      "[(30,), (40,), (50,), (100,), (30, 30), (40, 40), (50, 50), (100, 100), (30, 30, 30), (40, 40, 40), (50, 50, 50), (100, 100, 100), (30, 30, 30, 30), (40, 40, 40, 40), (50, 50, 50, 50), (100, 100, 100, 100), (30, 30, 30, 30, 30), (40, 40, 40, 40, 40), (50, 50, 50, 50, 50), (100, 100, 100, 100, 100)] \n",
      "\n",
      "[(30,), (40,), (50,), (100,), (30, 30), (40, 40), (50, 50), (100, 100), (30, 30, 30), (40, 40, 40)]\n"
     ]
    }
   ],
   "source": [
    "print(hidden_layers, '\\n')\n",
    "print(hidden_layers[:10])"
   ]
  },
  {
   "cell_type": "code",
   "execution_count": 118,
   "metadata": {},
   "outputs": [
    {
     "name": "stdout",
     "output_type": "stream",
     "text": [
      "[1.e-01 1.e-02 1.e-03 1.e-04 1.e-05]\n",
      "[1000, 1500, 2000]\n"
     ]
    }
   ],
   "source": [
    "alphas = 10.0 ** -np.arange(1, 6)\n",
    "print(alphas)\n",
    "\n",
    "iters = [1000, 1500, 2000]\n",
    "print(iters)"
   ]
  },
  {
   "cell_type": "markdown",
   "metadata": {},
   "source": [
    "**From sklearn docs:**\n",
    "\n",
    "> solver{‘lbfgs’, ‘sgd’, ‘adam’}, default=’adam’\n",
    "The solver for weight optimization.\n",
    ">\n",
    "> ‘lbfgs’ is an optimizer in the family of quasi-Newton methods.\n",
    ">\n",
    "> ‘sgd’ refers to stochastic gradient descent.\n",
    ">\n",
    "> ‘adam’ refers to a stochastic gradient-based optimizer proposed by Kingma, Diederik, and Jimmy Ba\n",
    ">\n",
    "> Note: The default solver ‘adam’ works pretty well on relatively large datasets (with thousands of training samples or more) in terms of both training time and validation score. For small datasets, however, ‘lbfgs’ can converge faster and perform better."
   ]
  },
  {
   "cell_type": "code",
   "execution_count": 119,
   "metadata": {},
   "outputs": [],
   "source": [
    "parameter_space = {\n",
    "    'hidden_layer_sizes': hidden_layers[:10],\n",
    "    'activation': ['relu', 'logistic'],\n",
    "    'solver': ['sgd', 'lbfgs'],\n",
    "    'max_iter': iters,\n",
    "    'alpha': alphas,\n",
    "    'learning_rate': ['constant','adaptive'],\n",
    "}"
   ]
  },
  {
   "cell_type": "code",
   "execution_count": 120,
   "metadata": {},
   "outputs": [],
   "source": [
    "mlp = MLPClassifier()"
   ]
  },
  {
   "cell_type": "code",
   "execution_count": 121,
   "metadata": {},
   "outputs": [
    {
     "name": "stdout",
     "output_type": "stream",
     "text": [
      "x:\n",
      "[[-0.81 -0.48  0.49  0.22  0.22 -0.26 -0.15  1.65 -0.25 -0.28 -2.46]\n",
      " [-0.01  0.42  0.84 -0.3   0.59 -0.06 -0.54  0.62 -0.72 -0.28  0.05]\n",
      " [ 1.58  0.63 -1.39  2.1  -0.53 -0.84 -0.63 -0.65 -0.56  0.71  1.06]]\n",
      "\n",
      "\n",
      "xc:\n",
      "[[-0.17  0.35 -0.53  0.03 -0.49]\n",
      " [ 0.65  0.84  0.29 -0.6  -0.45]\n",
      " [ 0.75  0.35 -0.42  0.21 -0.52]]\n"
     ]
    }
   ],
   "source": [
    "print(f'x:\\n{x_train[:3]}')\n",
    "print('\\n')\n",
    "print(f'xc:\\n{xc_train[:3]}')"
   ]
  },
  {
   "cell_type": "code",
   "execution_count": 123,
   "metadata": {},
   "outputs": [
    {
     "name": "stdout",
     "output_type": "stream",
     "text": [
      "Fitting 3 folds for each of 1200 candidates, totalling 3600 fits\n"
     ]
    },
    {
     "name": "stderr",
     "output_type": "stream",
     "text": [
      "[Parallel(n_jobs=-1)]: Using backend LokyBackend with 4 concurrent workers.\n",
      "[Parallel(n_jobs=-1)]: Done  33 tasks      | elapsed:   42.1s\n",
      "[Parallel(n_jobs=-1)]: Done 154 tasks      | elapsed:  3.3min\n",
      "[Parallel(n_jobs=-1)]: Done 357 tasks      | elapsed: 10.9min\n",
      "[Parallel(n_jobs=-1)]: Done 640 tasks      | elapsed: 15.9min\n",
      "[Parallel(n_jobs=-1)]: Done 1005 tasks      | elapsed: 21.2min\n",
      "[Parallel(n_jobs=-1)]: Done 1450 tasks      | elapsed: 27.6min\n",
      "[Parallel(n_jobs=-1)]: Done 1977 tasks      | elapsed: 34.3min\n",
      "[Parallel(n_jobs=-1)]: Done 2584 tasks      | elapsed: 38.9min\n",
      "[Parallel(n_jobs=-1)]: Done 3273 tasks      | elapsed: 42.8min\n",
      "[Parallel(n_jobs=-1)]: Done 3600 out of 3600 | elapsed: 44.7min finished\n"
     ]
    },
    {
     "data": {
      "text/plain": [
       "GridSearchCV(cv=3, estimator=MLPClassifier(), n_jobs=-1,\n",
       "             param_grid={'activation': ['relu', 'logistic'],\n",
       "                         'alpha': array([1.e-01, 1.e-02, 1.e-03, 1.e-04, 1.e-05]),\n",
       "                         'hidden_layer_sizes': [(30,), (40,), (50,), (100,),\n",
       "                                                (30, 30), (40, 40), (50, 50),\n",
       "                                                (100, 100), (30, 30, 30),\n",
       "                                                (40, 40, 40)],\n",
       "                         'learning_rate': ['constant', 'adaptive'],\n",
       "                         'max_iter': [1000, 1500, 2000],\n",
       "                         'solver': ['sgd', 'lbfgs']},\n",
       "             verbose=2)"
      ]
     },
     "execution_count": 123,
     "metadata": {},
     "output_type": "execute_result"
    }
   ],
   "source": [
    "from sklearn.model_selection import GridSearchCV\n",
    "\n",
    "clf = GridSearchCV(mlp, parameter_space, n_jobs=-1, cv=3, verbose=2)\n",
    "# n_jobs: how many CPU cores to use from the computer (-1 for all cores available)\n",
    "# cv    : number of splits for cross-validation.\n",
    "\n",
    "clf.fit(x_train, y_train)"
   ]
  },
  {
   "cell_type": "code",
   "execution_count": 414,
   "metadata": {},
   "outputs": [
    {
     "name": "stdout",
     "output_type": "stream",
     "text": [
      "Best parameters found:\n",
      " {'activation': 'relu', 'alpha': 0.001, 'hidden_layer_sizes': (30,), 'learning_rate': 'constant', 'max_iter': 1500, 'solver': 'sgd'}\n",
      "\n",
      "acc: 0.23076923076923078\n",
      "\n"
     ]
    },
    {
     "data": {
      "text/plain": [
       "array([ 8,  0,  0,  0,  6, 12, 15,  0,  5,  2, 13,  0, 12,  7,  7, 13,  5,\n",
       "        8,  0, 13,  8,  5,  8,  2, 14,  7,  7, 12,  1, 15,  8,  8,  8,  2,\n",
       "       14, 11, 12,  7,  8,  7,  1,  8, 14,  2,  0,  6,  7, 12,  7,  2,  7,\n",
       "        1])"
      ]
     },
     "execution_count": 414,
     "metadata": {},
     "output_type": "execute_result"
    }
   ],
   "source": [
    "# Best paramete set\n",
    "print('Best parameters found:\\n', clf.best_params_)\n",
    "print()\n",
    "\n",
    "y_grid_test, y_grid_pred = y_test, clf.predict(x_test)\n",
    "print('acc:', accuracy_score(y_grid_test, y_grid_pred))\n",
    "\n",
    "print()\n",
    "y_grid_pred"
   ]
  },
  {
   "cell_type": "code",
   "execution_count": 346,
   "metadata": {},
   "outputs": [
    {
     "data": {
      "text/plain": [
       "array([ 8,  0,  0,  0,  6, 12, 15,  0,  5,  2, 13,  0, 12,  7,  7, 13,  5,\n",
       "        8,  0, 13,  8,  5,  8,  2, 14,  7,  7, 12,  1, 15,  8,  8,  8,  2,\n",
       "       14, 11, 12,  7,  8,  7,  1,  8, 14,  2,  0,  6,  7, 12,  7,  2,  7,\n",
       "        1])"
      ]
     },
     "execution_count": 346,
     "metadata": {},
     "output_type": "execute_result"
    }
   ],
   "source": [
    "# Saving model as pickle\n",
    "import joblib\n",
    "\n",
    "# Save the model as a pickle in a file\n",
    "outfile = 'data/004_models/004mlp_grid_search.pkl'\n",
    "joblib.dump(clf, outfile)\n",
    "\n",
    "# Load the model from the file\n",
    "model_from_joblib = joblib.load(outfile)\n",
    "\n",
    "# Use the loaded model to make predictions\n",
    "model_from_joblib.predict(x_test)"
   ]
  },
  {
   "cell_type": "code",
   "execution_count": 415,
   "metadata": {},
   "outputs": [
    {
     "name": "stdout",
     "output_type": "stream",
     "text": [
      "Results on the test set:\n",
      "              precision    recall  f1-score   support\n",
      "\n",
      "           0       0.00      0.00      0.00         4\n",
      "           1       0.67      0.40      0.50         5\n",
      "           2       0.00      0.00      0.00         7\n",
      "           4       0.00      0.00      0.00         1\n",
      "           5       0.67      0.33      0.44         6\n",
      "           6       0.00      0.00      0.00         2\n",
      "           7       0.11      1.00      0.20         1\n",
      "           8       0.33      1.00      0.50         3\n",
      "           9       0.00      0.00      0.00         3\n",
      "          10       0.00      0.00      0.00         3\n",
      "          11       0.00      0.00      0.00         1\n",
      "          12       0.20      0.25      0.22         4\n",
      "          13       0.67      0.40      0.50         5\n",
      "          14       0.00      0.00      0.00         4\n",
      "          15       0.50      0.33      0.40         3\n",
      "\n",
      "    accuracy                           0.23        52\n",
      "   macro avg       0.21      0.25      0.18        52\n",
      "weighted avg       0.27      0.23      0.22        52\n",
      "\n"
     ]
    }
   ],
   "source": [
    "print('Results on the test set:')\n",
    "print(classification_report(y_grid_test, y_grid_pred))"
   ]
  },
  {
   "cell_type": "code",
   "execution_count": 441,
   "metadata": {},
   "outputs": [
    {
     "name": "stdout",
     "output_type": "stream",
     "text": [
      "Matriz de confusão normalizada\n"
     ]
    },
    {
     "data": {
      "image/png": "[encoded data removed]",
      "text/plain": [
       "<Figure size 648x648 with 2 Axes>"
      ]
     },
     "metadata": {},
     "output_type": "display_data"
    }
   ],
   "source": [
    "np.set_printoptions(precision=2)\n",
    "\n",
    "ylabel_test = le.inverse_transform(list(y_grid_test))\n",
    "ylabel_pred = le.inverse_transform(y_grid_pred)\n",
    "names_classes = np.array(unique_labels(le.inverse_transform(df.supergenre)))\n",
    "\n",
    "# Plot normalized confusion matrix\n",
    "fig, ax, matriz_confusao = plot_confusion_matrix(y_grid_test,\n",
    "                                                 y_grid_pred,\n",
    "                                                 classes=names_classes,\n",
    "                                                 normalize=True)\n",
    "plt.show()\n",
    "\n",
    "# Save figure\n",
    "#figname = 'figures/004conf_mat_grid_search.png'\n",
    "#fig.savefig(figname)"
   ]
  }
 ],
 "metadata": {
  "kernelspec": {
   "display_name": "venv",
   "language": "python",
   "name": "venv"
  },
  "language_info": {
   "codemirror_mode": {
    "name": "ipython",
    "version": 3
   },
   "file_extension": ".py",
   "mimetype": "text/x-python",
   "name": "python",
   "nbconvert_exporter": "python",
   "pygments_lexer": "ipython3",
   "version": "3.8.2"
  }
 },
 "nbformat": 4,
 "nbformat_minor": 4
}
